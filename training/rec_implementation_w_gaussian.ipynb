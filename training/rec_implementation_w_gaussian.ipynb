{
  "cells": [
    {
      "cell_type": "markdown",
      "metadata": {
        "id": "dYibUGi6FjSI"
      },
      "source": [
        "#### Setup"
      ]
    },
    {
      "cell_type": "code",
      "execution_count": 1,
      "metadata": {
        "id": "XgMnpYRAJ9cY"
      },
      "outputs": [],
      "source": [
        "from google.colab import drive\n",
        "import sys"
      ]
    },
    {
      "cell_type": "code",
      "source": [
        "drive.mount('/content/drive')\n",
        "sys.path.append('/content/drive/Shareddrives/CMPE260/')"
      ],
      "metadata": {
        "colab": {
          "base_uri": "https://localhost:8080/"
        },
        "id": "IaIV_SdLlxfG",
        "outputId": "0dbf7640-5e51-4be0-8eff-6df340f6257e"
      },
      "execution_count": 2,
      "outputs": [
        {
          "output_type": "stream",
          "name": "stdout",
          "text": [
            "Mounted at /content/drive\n"
          ]
        }
      ]
    },
    {
      "cell_type": "code",
      "source": [
        "%run /content/drive/Shareddrives/CMPE260/code/rec_implementation.ipynb"
      ],
      "metadata": {
        "colab": {
          "base_uri": "https://localhost:8080/"
        },
        "id": "k4AqoOowtA1D",
        "outputId": "f6391973-8a49-4058-e68c-7545fae5a600"
      },
      "execution_count": 9,
      "outputs": [
        {
          "output_type": "stream",
          "name": "stdout",
          "text": [
            "Requirement already satisfied: pytorch_ranger in /usr/local/lib/python3.10/dist-packages (0.1.1)\n",
            "Requirement already satisfied: torch in /usr/local/lib/python3.10/dist-packages (from pytorch_ranger) (2.1.0+cu118)\n",
            "Requirement already satisfied: filelock in /usr/local/lib/python3.10/dist-packages (from torch->pytorch_ranger) (3.13.1)\n",
            "Requirement already satisfied: typing-extensions in /usr/local/lib/python3.10/dist-packages (from torch->pytorch_ranger) (4.5.0)\n",
            "Requirement already satisfied: sympy in /usr/local/lib/python3.10/dist-packages (from torch->pytorch_ranger) (1.12)\n",
            "Requirement already satisfied: networkx in /usr/local/lib/python3.10/dist-packages (from torch->pytorch_ranger) (3.2.1)\n",
            "Requirement already satisfied: jinja2 in /usr/local/lib/python3.10/dist-packages (from torch->pytorch_ranger) (3.1.2)\n",
            "Requirement already satisfied: fsspec in /usr/local/lib/python3.10/dist-packages (from torch->pytorch_ranger) (2023.6.0)\n",
            "Requirement already satisfied: triton==2.1.0 in /usr/local/lib/python3.10/dist-packages (from torch->pytorch_ranger) (2.1.0)\n",
            "Requirement already satisfied: MarkupSafe>=2.0 in /usr/local/lib/python3.10/dist-packages (from jinja2->torch->pytorch_ranger) (2.1.3)\n",
            "Requirement already satisfied: mpmath>=0.19 in /usr/local/lib/python3.10/dist-packages (from sympy->torch->pytorch_ranger) (1.3.0)\n",
            "cpu\n"
          ]
        }
      ]
    },
    {
      "cell_type": "markdown",
      "metadata": {
        "id": "isg7jUVApzmv"
      },
      "source": [
        "#### Training"
      ]
    },
    {
      "cell_type": "code",
      "source": [
        "gaussian_noise = GaussianStrategy()"
      ],
      "metadata": {
        "id": "IyLJBcymn2xo"
      },
      "execution_count": 4,
      "outputs": []
    },
    {
      "cell_type": "code",
      "execution_count": 5,
      "metadata": {
        "id": "p6SK7LpuCX4S"
      },
      "outputs": [],
      "source": [
        "train_env = Environment(train_matrix)\n",
        "\n",
        "hits, dcgs = [], []\n",
        "hits_all, dcgs_all = [], []\n",
        "step, best_step = 0, 0\n",
        "step, best_step, best_step_all = 0, 0, 0\n",
        "\n",
        "users = np.random.permutation(apt_users)"
      ]
    },
    {
      "cell_type": "code",
      "source": [
        "for u in tqdm.tqdm(users):\n",
        "    print('user =', u)\n",
        "    user, memory = train_env.reset(u)\n",
        "\n",
        "    for t in range(int(train_matrix[u].sum())):\n",
        "      try:\n",
        "        # given current state, get action using actor network\n",
        "        action_emb = policy_network(state_representation(user, memory))\n",
        "        action_emb = gaussian_noise.get_action(action_emb[0], t)\n",
        "\n",
        "        action = policy_network.get_action(user, torch.tensor(train_env.memory[user.detach().cpu().numpy().astype(int), :]), state_representation, action_emb,\n",
        "            torch.tensor([item for item in train_env.available_books if item not in train_env.viewed_books]).long()\n",
        "        )\n",
        "      except Exception as e:\n",
        "        print(e)\n",
        "\n",
        "      # update replay buffer\n",
        "      user, memory, reward, done = train_env.step(action, action_emb, replay_buffer)\n",
        "\n",
        "      # update weights of action and critic network\n",
        "      if len(replay_buffer) > params['batch_size']:\n",
        "          update(params['batch_size'], params['gamma'], params['min_value'], params['max_value'], params['soft_tau'])\n",
        "\n",
        "      # monitor training process by evaluating on only one user for efficiency\n",
        "      if step % 100 == 0 and step > 0:\n",
        "          hit, dcg = evaluation(policy_network, state_representation, train_env.memory, test_loader)\n",
        "\n",
        "          hits.append(hit)\n",
        "          dcgs.append(dcg)\n",
        "\n",
        "          if np.mean(np.array([hit, dcg]) - np.array([hits[best_step], dcgs[best_step]])) >= 0:\n",
        "              best_step = step // 100\n",
        "              torch.save(policy_network.state_dict(), params['log_w_gaussian_dir'] + 'policy_net.pth')\n",
        "              torch.save(value_network.state_dict(), params['log_w_gaussian_dir'] + 'value_net.pth')\n",
        "              torch.save(state_representation.state_dict(), params['log_w_gaussian_dir'] + 'state_repr.pth')\n",
        "\n",
        "      # evaluate for best policy after every 1000 steps on the whole test set\n",
        "      if step % 1000 == 0 and step > 0:\n",
        "          hit, dcg = evaluation(policy_network, state_representation, train_env.memory, full_loader)\n",
        "\n",
        "          hits_all.append(hit)\n",
        "          dcgs_all.append(dcg)\n",
        "\n",
        "          if np.mean(np.array([hit, dcg]) - np.array([hits_all[best_step_all], dcgs_all[best_step_all]])) >= 0:\n",
        "              best_step_all = step // 1000\n",
        "              torch.save(policy_network.state_dict(), params['log_w_gaussian_dir'] + 'best_policy_net.pth')\n",
        "              torch.save(value_network.state_dict(), params['log_w_gaussian_dir'] + 'best_value_net.pth')\n",
        "              torch.save(state_representation.state_dict(), params['log_w_gaussian_dir'] + 'best_state_repr.pth')\n",
        "\n",
        "      step += 1"
      ],
      "metadata": {
        "colab": {
          "base_uri": "https://localhost:8080/"
        },
        "id": "47ySFiHWnpcT",
        "outputId": "b820bec5-7622-4b05-a416-0ed460b237aa"
      },
      "execution_count": 6,
      "outputs": [
        {
          "output_type": "stream",
          "name": "stderr",
          "text": [
            "\r  0%|          | 0/52 [00:00<?, ?it/s]"
          ]
        },
        {
          "output_type": "stream",
          "name": "stdout",
          "text": [
            "user = 25\n"
          ]
        },
        {
          "output_type": "stream",
          "name": "stderr",
          "text": [
            "\r  2%|▏         | 1/52 [00:15<13:00, 15.30s/it]"
          ]
        },
        {
          "output_type": "stream",
          "name": "stdout",
          "text": [
            "user = 132\n"
          ]
        },
        {
          "output_type": "stream",
          "name": "stderr",
          "text": [
            "\r  4%|▍         | 2/52 [00:24<09:55, 11.90s/it]"
          ]
        },
        {
          "output_type": "stream",
          "name": "stdout",
          "text": [
            "user = 137\n"
          ]
        },
        {
          "output_type": "stream",
          "name": "stderr",
          "text": [
            "\r  6%|▌         | 3/52 [00:34<08:52, 10.86s/it]"
          ]
        },
        {
          "output_type": "stream",
          "name": "stdout",
          "text": [
            "user = 144\n"
          ]
        },
        {
          "output_type": "stream",
          "name": "stderr",
          "text": [
            "\r  8%|▊         | 4/52 [00:44<08:22, 10.47s/it]"
          ]
        },
        {
          "output_type": "stream",
          "name": "stdout",
          "text": [
            "user = 136\n"
          ]
        },
        {
          "output_type": "stream",
          "name": "stderr",
          "text": [
            "\r 10%|▉         | 5/52 [00:51<07:11,  9.18s/it]"
          ]
        },
        {
          "output_type": "stream",
          "name": "stdout",
          "text": [
            "user = 213\n"
          ]
        },
        {
          "output_type": "stream",
          "name": "stderr",
          "text": [
            "\r 12%|█▏        | 6/52 [01:01<07:23,  9.64s/it]"
          ]
        },
        {
          "output_type": "stream",
          "name": "stdout",
          "text": [
            "user = 27\n"
          ]
        },
        {
          "output_type": "stream",
          "name": "stderr",
          "text": [
            "\r 13%|█▎        | 7/52 [05:38<1:12:48, 97.07s/it]"
          ]
        },
        {
          "output_type": "stream",
          "name": "stdout",
          "text": [
            "user = 36\n"
          ]
        },
        {
          "output_type": "stream",
          "name": "stderr",
          "text": [
            "\r 15%|█▌        | 8/52 [05:50<51:19, 69.98s/it]  "
          ]
        },
        {
          "output_type": "stream",
          "name": "stdout",
          "text": [
            "user = 83\n"
          ]
        },
        {
          "output_type": "stream",
          "name": "stderr",
          "text": [
            "\r 17%|█▋        | 9/52 [06:02<37:11, 51.90s/it]"
          ]
        },
        {
          "output_type": "stream",
          "name": "stdout",
          "text": [
            "user = 162\n"
          ]
        },
        {
          "output_type": "stream",
          "name": "stderr",
          "text": [
            "\r 19%|█▉        | 10/52 [06:09<26:36, 38.00s/it]"
          ]
        },
        {
          "output_type": "stream",
          "name": "stdout",
          "text": [
            "user = 67\n"
          ]
        },
        {
          "output_type": "stream",
          "name": "stderr",
          "text": [
            "\r 21%|██        | 11/52 [06:21<20:21, 29.80s/it]"
          ]
        },
        {
          "output_type": "stream",
          "name": "stdout",
          "text": [
            "user = 32\n"
          ]
        },
        {
          "output_type": "stream",
          "name": "stderr",
          "text": [
            "\r 23%|██▎       | 12/52 [06:26<14:58, 22.45s/it]"
          ]
        },
        {
          "output_type": "stream",
          "name": "stdout",
          "text": [
            "user = 143\n"
          ]
        },
        {
          "output_type": "stream",
          "name": "stderr",
          "text": [
            "\r 25%|██▌       | 13/52 [11:14<1:06:46, 102.72s/it]"
          ]
        },
        {
          "output_type": "stream",
          "name": "stdout",
          "text": [
            "user = 141\n"
          ]
        },
        {
          "output_type": "stream",
          "name": "stderr",
          "text": [
            "\r 27%|██▋       | 14/52 [11:21<46:48, 73.92s/it]   "
          ]
        },
        {
          "output_type": "stream",
          "name": "stdout",
          "text": [
            "user = 205\n"
          ]
        },
        {
          "output_type": "stream",
          "name": "stderr",
          "text": [
            "\r 29%|██▉       | 15/52 [11:29<33:15, 53.92s/it]"
          ]
        },
        {
          "output_type": "stream",
          "name": "stdout",
          "text": [
            "user = 70\n"
          ]
        },
        {
          "output_type": "stream",
          "name": "stderr",
          "text": [
            "\r 31%|███       | 16/52 [11:34<23:36, 39.33s/it]"
          ]
        },
        {
          "output_type": "stream",
          "name": "stdout",
          "text": [
            "user = 38\n"
          ]
        },
        {
          "output_type": "stream",
          "name": "stderr",
          "text": [
            "\r 33%|███▎      | 17/52 [11:43<17:42, 30.36s/it]"
          ]
        },
        {
          "output_type": "stream",
          "name": "stdout",
          "text": [
            "user = 93\n"
          ]
        },
        {
          "output_type": "stream",
          "name": "stderr",
          "text": [
            "\r 35%|███▍      | 18/52 [11:53<13:38, 24.09s/it]"
          ]
        },
        {
          "output_type": "stream",
          "name": "stdout",
          "text": [
            "user = 54\n"
          ]
        },
        {
          "output_type": "stream",
          "name": "stderr",
          "text": [
            "\r 37%|███▋      | 19/52 [12:02<10:42, 19.47s/it]"
          ]
        },
        {
          "output_type": "stream",
          "name": "stdout",
          "text": [
            "user = 99\n"
          ]
        },
        {
          "output_type": "stream",
          "name": "stderr",
          "text": [
            "\r 38%|███▊      | 20/52 [16:36<51:15, 96.12s/it]"
          ]
        },
        {
          "output_type": "stream",
          "name": "stdout",
          "text": [
            "user = 5\n"
          ]
        },
        {
          "output_type": "stream",
          "name": "stderr",
          "text": [
            "\r 40%|████      | 21/52 [16:44<35:51, 69.39s/it]"
          ]
        },
        {
          "output_type": "stream",
          "name": "stdout",
          "text": [
            "user = 21\n"
          ]
        },
        {
          "output_type": "stream",
          "name": "stderr",
          "text": [
            "\r 42%|████▏     | 22/52 [16:51<25:22, 50.74s/it]"
          ]
        },
        {
          "output_type": "stream",
          "name": "stdout",
          "text": [
            "user = 196\n"
          ]
        },
        {
          "output_type": "stream",
          "name": "stderr",
          "text": [
            "\r 44%|████▍     | 23/52 [16:58<18:16, 37.82s/it]"
          ]
        },
        {
          "output_type": "stream",
          "name": "stdout",
          "text": [
            "user = 211\n"
          ]
        },
        {
          "output_type": "stream",
          "name": "stderr",
          "text": [
            "\r 46%|████▌     | 24/52 [17:09<13:50, 29.64s/it]"
          ]
        },
        {
          "output_type": "stream",
          "name": "stdout",
          "text": [
            "user = 203\n"
          ]
        },
        {
          "output_type": "stream",
          "name": "stderr",
          "text": [
            "\r 48%|████▊     | 25/52 [17:17<10:23, 23.10s/it]"
          ]
        },
        {
          "output_type": "stream",
          "name": "stdout",
          "text": [
            "user = 14\n"
          ]
        },
        {
          "output_type": "stream",
          "name": "stderr",
          "text": [
            "\r 50%|█████     | 26/52 [17:25<08:02, 18.55s/it]"
          ]
        },
        {
          "output_type": "stream",
          "name": "stdout",
          "text": [
            "user = 243\n"
          ]
        },
        {
          "output_type": "stream",
          "name": "stderr",
          "text": [
            "\r 52%|█████▏    | 27/52 [22:01<39:58, 95.93s/it]"
          ]
        },
        {
          "output_type": "stream",
          "name": "stdout",
          "text": [
            "user = 125\n"
          ]
        },
        {
          "output_type": "stream",
          "name": "stderr",
          "text": [
            "\r 54%|█████▍    | 28/52 [22:10<27:58, 69.92s/it]"
          ]
        },
        {
          "output_type": "stream",
          "name": "stdout",
          "text": [
            "user = 75\n"
          ]
        },
        {
          "output_type": "stream",
          "name": "stderr",
          "text": [
            "\r 56%|█████▌    | 29/52 [22:17<19:28, 50.82s/it]"
          ]
        },
        {
          "output_type": "stream",
          "name": "stdout",
          "text": [
            "user = 1\n"
          ]
        },
        {
          "output_type": "stream",
          "name": "stderr",
          "text": [
            "\r 58%|█████▊    | 30/52 [22:27<14:12, 38.76s/it]"
          ]
        },
        {
          "output_type": "stream",
          "name": "stdout",
          "text": [
            "user = 43\n"
          ]
        },
        {
          "output_type": "stream",
          "name": "stderr",
          "text": [
            "\r 60%|█████▉    | 31/52 [22:36<10:25, 29.80s/it]"
          ]
        },
        {
          "output_type": "stream",
          "name": "stdout",
          "text": [
            "user = 12\n"
          ]
        },
        {
          "output_type": "stream",
          "name": "stderr",
          "text": [
            "\r 62%|██████▏   | 32/52 [22:45<07:51, 23.56s/it]"
          ]
        },
        {
          "output_type": "stream",
          "name": "stdout",
          "text": [
            "user = 239\n"
          ]
        },
        {
          "output_type": "stream",
          "name": "stderr",
          "text": [
            "\r 63%|██████▎   | 33/52 [27:22<31:33, 99.64s/it]"
          ]
        },
        {
          "output_type": "stream",
          "name": "stdout",
          "text": [
            "user = 124\n"
          ]
        },
        {
          "output_type": "stream",
          "name": "stderr",
          "text": [
            "\r 65%|██████▌   | 34/52 [27:35<22:02, 73.45s/it]"
          ]
        },
        {
          "output_type": "stream",
          "name": "stdout",
          "text": [
            "user = 198\n"
          ]
        },
        {
          "output_type": "stream",
          "name": "stderr",
          "text": [
            "\r 67%|██████▋   | 35/52 [27:41<15:07, 53.41s/it]"
          ]
        },
        {
          "output_type": "stream",
          "name": "stdout",
          "text": [
            "user = 242\n"
          ]
        },
        {
          "output_type": "stream",
          "name": "stderr",
          "text": [
            "\r 69%|██████▉   | 36/52 [27:54<11:00, 41.26s/it]"
          ]
        },
        {
          "output_type": "stream",
          "name": "stdout",
          "text": [
            "user = 105\n"
          ]
        },
        {
          "output_type": "stream",
          "name": "stderr",
          "text": [
            "\r 71%|███████   | 37/52 [28:02<07:50, 31.34s/it]"
          ]
        },
        {
          "output_type": "stream",
          "name": "stdout",
          "text": [
            "user = 212\n"
          ]
        },
        {
          "output_type": "stream",
          "name": "stderr",
          "text": [
            "\r 73%|███████▎  | 38/52 [28:13<05:52, 25.15s/it]"
          ]
        },
        {
          "output_type": "stream",
          "name": "stdout",
          "text": [
            "user = 226\n"
          ]
        },
        {
          "output_type": "stream",
          "name": "stderr",
          "text": [
            "\r 75%|███████▌  | 39/52 [32:54<22:04, 101.85s/it]"
          ]
        },
        {
          "output_type": "stream",
          "name": "stdout",
          "text": [
            "user = 78\n"
          ]
        },
        {
          "output_type": "stream",
          "name": "stderr",
          "text": [
            "\r 77%|███████▋  | 40/52 [33:03<14:47, 73.95s/it] "
          ]
        },
        {
          "output_type": "stream",
          "name": "stdout",
          "text": [
            "user = 63\n"
          ]
        },
        {
          "output_type": "stream",
          "name": "stderr",
          "text": [
            "\r 79%|███████▉  | 41/52 [33:11<09:56, 54.24s/it]"
          ]
        },
        {
          "output_type": "stream",
          "name": "stdout",
          "text": [
            "user = 238\n"
          ]
        },
        {
          "output_type": "stream",
          "name": "stderr",
          "text": [
            "\r 81%|████████  | 42/52 [33:17<06:38, 39.80s/it]"
          ]
        },
        {
          "output_type": "stream",
          "name": "stdout",
          "text": [
            "user = 11\n"
          ]
        },
        {
          "output_type": "stream",
          "name": "stderr",
          "text": [
            "\r 83%|████████▎ | 43/52 [33:27<04:36, 30.74s/it]"
          ]
        },
        {
          "output_type": "stream",
          "name": "stdout",
          "text": [
            "user = 172\n"
          ]
        },
        {
          "output_type": "stream",
          "name": "stderr",
          "text": [
            "\r 85%|████████▍ | 44/52 [33:34<03:09, 23.69s/it]"
          ]
        },
        {
          "output_type": "stream",
          "name": "stdout",
          "text": [
            "user = 179\n"
          ]
        },
        {
          "output_type": "stream",
          "name": "stderr",
          "text": [
            "\r 87%|████████▋ | 45/52 [33:44<02:16, 19.47s/it]"
          ]
        },
        {
          "output_type": "stream",
          "name": "stdout",
          "text": [
            "user = 184\n"
          ]
        },
        {
          "output_type": "stream",
          "name": "stderr",
          "text": [
            "\r 88%|████████▊ | 46/52 [38:21<09:41, 96.84s/it]"
          ]
        },
        {
          "output_type": "stream",
          "name": "stdout",
          "text": [
            "user = 222\n"
          ]
        },
        {
          "output_type": "stream",
          "name": "stderr",
          "text": [
            "\r 90%|█████████ | 47/52 [38:30<05:52, 70.58s/it]"
          ]
        },
        {
          "output_type": "stream",
          "name": "stdout",
          "text": [
            "user = 82\n"
          ]
        },
        {
          "output_type": "stream",
          "name": "stderr",
          "text": [
            "\r 92%|█████████▏| 48/52 [38:39<03:27, 51.95s/it]"
          ]
        },
        {
          "output_type": "stream",
          "name": "stdout",
          "text": [
            "user = 52\n"
          ]
        },
        {
          "output_type": "stream",
          "name": "stderr",
          "text": [
            "\r 94%|█████████▍| 49/52 [38:49<01:58, 39.48s/it]"
          ]
        },
        {
          "output_type": "stream",
          "name": "stdout",
          "text": [
            "user = 199\n"
          ]
        },
        {
          "output_type": "stream",
          "name": "stderr",
          "text": [
            "\r 96%|█████████▌| 50/52 [38:55<00:58, 29.45s/it]"
          ]
        },
        {
          "output_type": "stream",
          "name": "stdout",
          "text": [
            "user = 134\n"
          ]
        },
        {
          "output_type": "stream",
          "name": "stderr",
          "text": [
            "\r 98%|█████████▊| 51/52 [39:08<00:24, 24.32s/it]"
          ]
        },
        {
          "output_type": "stream",
          "name": "stdout",
          "text": [
            "user = 22\n"
          ]
        },
        {
          "output_type": "stream",
          "name": "stderr",
          "text": [
            "100%|██████████| 52/52 [43:43<00:00, 50.46s/it]\n"
          ]
        }
      ]
    },
    {
      "cell_type": "code",
      "execution_count": null,
      "metadata": {
        "id": "f4k4US6KICbE"
      },
      "outputs": [],
      "source": [
        "with open(params['log_w_gaussian_dir'] + 'memory.pickle', 'wb') as f:\n",
        "  pickle.dump(train_env.memory, f)"
      ]
    },
    {
      "cell_type": "code",
      "source": [
        "plot_hit(hits, 100, 'test_user')\n",
        "plot_dcg(dcgs, 100, 'test_user')"
      ],
      "metadata": {
        "colab": {
          "base_uri": "https://localhost:8080/",
          "height": 611
        },
        "id": "ru9sqERek4w_",
        "outputId": "68cdf0bb-06ed-4745-b8b1-1ed5e78a8584"
      },
      "execution_count": 10,
      "outputs": [
        {
          "output_type": "display_data",
          "data": {
            "text/plain": [
              "<Figure size 600x300 with 1 Axes>"
            ],
            "image/png": "[encoded data removed]"
          },
          "metadata": {}
        },
        {
          "output_type": "display_data",
          "data": {
            "text/plain": [
              "<Figure size 600x300 with 1 Axes>"
            ],
            "image/png": "[encoded data removed]"
          },
          "metadata": {}
        }
      ]
    },
    {
      "cell_type": "code",
      "source": [
        "plot_hit(hits_all, 1000, 'test_set')\n",
        "plot_dcg(dcgs_all, 1000, 'test_set')"
      ],
      "metadata": {
        "colab": {
          "base_uri": "https://localhost:8080/",
          "height": 611
        },
        "id": "lhMynX4jyIri",
        "outputId": "0ff895ec-e2cd-4565-865e-e9119ab11df6"
      },
      "execution_count": 11,
      "outputs": [
        {
          "output_type": "display_data",
          "data": {
            "text/plain": [
              "<Figure size 600x300 with 1 Axes>"
            ],
            "image/png": "[encoded data removed]"
          },
          "metadata": {}
        },
        {
          "output_type": "display_data",
          "data": {
            "text/plain": [
              "<Figure size 600x300 with 1 Axes>"
            ],
            "image/png": "[encoded data removed]"
          },
          "metadata": {}
        }
      ]
    },
    {
      "cell_type": "markdown",
      "metadata": {
        "id": "ajLqkadBEEuB"
      },
      "source": [
        "#### Evaluation on test set"
      ]
    },
    {
      "cell_type": "code",
      "execution_count": null,
      "metadata": {
        "id": "FMIECy-rMnA9"
      },
      "outputs": [],
      "source": [
        "with open(params['log_w_gaussian_dir'] + 'memory.pickle', 'rb') as f:\n",
        "    memory = pickle.load(f)"
      ]
    },
    {
      "cell_type": "code",
      "execution_count": null,
      "metadata": {
        "colab": {
          "base_uri": "https://localhost:8080/"
        },
        "id": "2VuRYoi8toXv",
        "outputId": "49e54be9-019f-4670-8337-a863552db9ae"
      },
      "outputs": [
        {
          "output_type": "execute_result",
          "data": {
            "text/plain": [
              "<All keys matched successfully>"
            ]
          },
          "metadata": {},
          "execution_count": 14
        }
      ],
      "source": [
        "state_rep = State_Representation(num_of_users, num_of_books, params['embedding_dim'], params['hidden_dim'])\n",
        "policy = Actor(params['embedding_dim'], params['hidden_dim'])\n",
        "\n",
        "state_rep.load_state_dict(torch.load(params['log_w_gaussian_dir'] + 'best_state_repr.pth'))\n",
        "policy.load_state_dict(torch.load(params['log_w_gaussian_dir'] + 'best_policy_net.pth'))"
      ]
    },
    {
      "cell_type": "code",
      "source": [
        "hit, dcg = evaluation(policy, state_rep, memory, full_loader)\n",
        "print('hit rate: ', hit, 'dcg: ', dcg)"
      ],
      "metadata": {
        "colab": {
          "base_uri": "https://localhost:8080/"
        },
        "id": "iYc6q3uu2Br1",
        "outputId": "5f387e31-caa6-4f76-ba0c-9a18733f43e2"
      },
      "execution_count": null,
      "outputs": [
        {
          "output_type": "stream",
          "name": "stdout",
          "text": [
            "hit rate:  0.9741984015044663 dcg:  0.48333943031368515\n"
          ]
        }
      ]
    },
    {
      "cell_type": "markdown",
      "metadata": {
        "id": "Z9nMIqNpEDGt"
      },
      "source": [
        "#### Inference"
      ]
    },
    {
      "cell_type": "code",
      "execution_count": null,
      "metadata": {
        "colab": {
          "base_uri": "https://localhost:8080/"
        },
        "id": "B_JMWfwfoTts",
        "outputId": "04e7b009-c90e-4814-ce09-9e1ebbef25d6"
      },
      "outputs": [
        {
          "output_type": "execute_result",
          "data": {
            "text/plain": [
              "89"
            ]
          },
          "metadata": {},
          "execution_count": 9
        }
      ],
      "source": [
        "random_user = test_data['user'].sample().iloc[0]\n",
        "random_user"
      ]
    },
    {
      "cell_type": "code",
      "execution_count": null,
      "metadata": {
        "colab": {
          "base_uri": "https://localhost:8080/",
          "height": 1000
        },
        "id": "Yp0VBTumc3gl",
        "outputId": "c1b81abe-e186-4096-bb84-453f6fdc88f8"
      },
      "outputs": [
        {
          "output_type": "execute_result",
          "data": {
            "text/plain": [
              "    user   book        isbn  \\\n",
              "0     89    154   385416342   \n",
              "1     89    679   399501487   \n",
              "2     89    845   441328008   \n",
              "3     89    846   441294677   \n",
              "4     89   1030   618002219   \n",
              "5     89   1283   811802981   \n",
              "6     89   1873   439139597   \n",
              "7     89   3115    60652934   \n",
              "8     89   3451   761539220   \n",
              "9     89   3916   345338588   \n",
              "10    89   4282   836220870   \n",
              "11    89   7013   440407028   \n",
              "12    89  10060   806961511   \n",
              "13    89  13690  1887374426   \n",
              "14    89  15196   425086836   \n",
              "15    89  16902   140132503   \n",
              "16    89  17155   380791854   \n",
              "17    89  20872   804803919   \n",
              "18    89  22195   890877858   \n",
              "19    89  25037   517560070   \n",
              "20    89  25944  1555601804   \n",
              "21    89  26308   834804530   \n",
              "22    89  27873   890879486   \n",
              "23    89  27879   890878242   \n",
              "24    89  27888   890877882   \n",
              "25    89  27889   890877866   \n",
              "26    89  27896  4789005178   \n",
              "27    89  27902  4770027818   \n",
              "28    89  27903  4770026080   \n",
              "29    89  27922  1565042115   \n",
              "30    89  27923   890879478   \n",
              "31    89  27935  1843090678   \n",
              "32    89  27936    62512102   \n",
              "33    89  27961   451524586   \n",
              "34    89  27970   916211320   \n",
              "35    89  27978   916211630   \n",
              "36    89  28013   874312221   \n",
              "37    89  28016   761540806   \n",
              "38    89  28041   811820785   \n",
              "39    89  28054  1565041127   \n",
              "40    89  28065  1565046137   \n",
              "41    89  28092  1930206054   \n",
              "42    89  28095  1566868246   \n",
              "43    89  28114   873416392   \n",
              "44    89  28130  1564773000   \n",
              "45    89  28140   672301687   \n",
              "\n",
              "                                                title  \\\n",
              "0                                            The Firm   \n",
              "1                                   Lord of the Flies   \n",
              "2          Heretics of Dune (Dune Chronicles, Book 5)   \n",
              "3       God Emperor of Dune (Dune Chronicles, Book 4)   \n",
              "4                 The Hobbit: or There and Back Again   \n",
              "5   The Golden Mean: In Which the Extraordinary Co...   \n",
              "6        Harry Potter and the Goblet of Fire (Book 4)   \n",
              "7                               The Screwtape Letters   \n",
              "8   The Sims Vacation: Expansion Pack: Prima's Off...   \n",
              "9   On a Pale Horse (Incarnations of Immortality, ...   \n",
              "10  Hound Of The Far Side (Far Side Books, Collect...   \n",
              "11  The Book of Three (Chronicles of Prydain (Pape...   \n",
              "12                Quick-To-Solve Brainteasers (Mensa)   \n",
              "13  The Complete Candlemaker: Techniques, Projects...   \n",
              "14                             Stalking the Nightmare   \n",
              "15                          Modern Ireland, 1600-1972   \n",
              "16                                    Lathe of Heaven   \n",
              "17  Mah Jong for Beginners (Books to Span the East...   \n",
              "18    The Totally Picnic Cookbook (Totally Cookbooks)   \n",
              "19             Having Tea: Recipes and Table Settings   \n",
              "20                                          Shadowrun   \n",
              "21  Mangajin's Basic Japanese Through Comics (Part 2)   \n",
              "22                       The Totally Carrots Cookbook   \n",
              "23            Totally Salmon (Totally Seafood Series)   \n",
              "24    The Totally Tomato Cookbook (Totally Cookbooks)   \n",
              "25     The Totally Pizza Cookbook (Totally Cookbooks)   \n",
              "26                                   Kana Can Be Easy   \n",
              "27  All About Particles: A Handbook of Japanese Fu...   \n",
              "28  A Dictionary of Basic Japanese Sentence Patter...   \n",
              "29                                 Clanbook: Lasombra   \n",
              "30    The Totally Potato Cookbook (Totally Cookbooks)   \n",
              "31              Chinese: The Essence of Asian Cooking   \n",
              "32  Mystic Cats: A Celebration of Cat Magic &amp; ...   \n",
              "33              Mysterious Stranger and Other Stories   \n",
              "34  Robotech Rpg Adventures: Rdf Accelerated Train...   \n",
              "35                  Macross Sourcebook 1 (Macross II)   \n",
              "36                 Planets Collection (Star Wars RPG)   \n",
              "37  Robotech Battlecry: Prima's Official Strategy ...   \n",
              "38       Picnics: Elegant Recipes for Alfresco Dining   \n",
              "39                Werewolf: The Apocalypse (Werewolf)   \n",
              "40     The Quick and the Dead (Wraith - the Oblivion)   \n",
              "41  Official Nintendo Power the Legend of Zelda: M...   \n",
              "42             Parasite Eve : Official Strategy Guide   \n",
              "43  Confederate States Paper Money (Confederate St...   \n",
              "44                     In the Studio with Judy Murrah   \n",
              "45                           Advanced C/Book and Disk   \n",
              "\n",
              "                       author  user_id  rating  best_seller  \n",
              "0                John Grisham   101851     8.0         True  \n",
              "1      William Gerald Golding   101851     8.0         True  \n",
              "2               Frank Herbert   101851     7.0         True  \n",
              "3               Frank Herbert   101851     7.0        False  \n",
              "4              J.R.R. Tolkien   101851    10.0         True  \n",
              "5                Nick Bantock   101851    10.0         True  \n",
              "6               J. K. Rowling   101851    10.0         True  \n",
              "7                 C. S. Lewis   101851     9.0         True  \n",
              "8                 David Chong   101851     9.0         True  \n",
              "9               Piers Anthony   101851     9.0        False  \n",
              "10                Gary Larson   101851     9.0         True  \n",
              "11            LLOYD ALEXANDER   101851    10.0         True  \n",
              "12     J.J. Mendoza Fernandez   101851    10.0         True  \n",
              "13                Norma Coney   101851     9.0         True  \n",
              "14             Harlan Ellison   101851    10.0         True  \n",
              "15                R.F. Foster   101851     8.0         True  \n",
              "16          Ursula K. Le Guin   101851    10.0         True  \n",
              "17                Shozo Kanai   101851    10.0        False  \n",
              "18              Helene Siegel   101851    10.0         True  \n",
              "19               Tricia Foley   101851    10.0        False  \n",
              "20             Jordan Weisman   101851     9.0         True  \n",
              "21                   Mangajin   101851    10.0         True  \n",
              "22              Helene Siegel   101851    10.0        False  \n",
              "23              Helene Siegel   101851    10.0         True  \n",
              "24              Helene Siegel   101851    10.0         True  \n",
              "25              Helene Siegel   101851    10.0         True  \n",
              "26             Kunihiko Ogawa   101851     9.0        False  \n",
              "27                Naoko Chino   101851     9.0         True  \n",
              "28                Naoko Chino   101851    10.0         True  \n",
              "29             Richard Dansky   101851     7.0        False  \n",
              "30              Helene Siegel   101851    10.0         True  \n",
              "31               Linda Doeser   101851     9.0        False  \n",
              "32                   Roni Jay   101851     9.0        False  \n",
              "33                 Mark Twain   101851     9.0         True  \n",
              "34                  Gary Reed   101851     8.0         True  \n",
              "35            Kevin Siembieda   101851     9.0         True  \n",
              "36             West End Games   101851     9.0         True  \n",
              "37             MICHAEL KNIGHT   101851     8.0         True  \n",
              "38      Barbara Scott-Goodman   101851     9.0         True  \n",
              "39            Mark Rein-Hagen   101851     9.0        False  \n",
              "40                Beth Fischi   101851     7.0         True  \n",
              "41  Nintendo of America Staff   101851     9.0         True  \n",
              "42              David Cassady   101851     9.0         True  \n",
              "43             Arlie Slabaugh   101851     7.0         True  \n",
              "44                Judy Murrah   101851     8.0         True  \n",
              "45            Peter D. Hipson   101851     7.0         True  "
            ],
            "text/html": [
              "\n",
              "  <div id=\"df-2763590f-a28c-434c-a131-e62ebf308aa6\" class=\"colab-df-container\">\n",
              "    <div>\n",
              "<style scoped>\n",
              "    .dataframe tbody tr th:only-of-type {\n",
              "        vertical-align: middle;\n",
              "    }\n",
              "\n",
              "    .dataframe tbody tr th {\n",
              "        vertical-align: top;\n",
              "    }\n",
              "\n",
              "    .dataframe thead th {\n",
              "        text-align: right;\n",
              "    }\n",
              "</style>\n",
              "<table border=\"1\" class=\"dataframe\">\n",
              "  <thead>\n",
              "    <tr style=\"text-align: right;\">\n",
              "      <th></th>\n",
              "      <th>user</th>\n",
              "      <th>book</th>\n",
              "      <th>isbn</th>\n",
              "      <th>title</th>\n",
              "      <th>author</th>\n",
              "      <th>user_id</th>\n",
              "      <th>rating</th>\n",
              "      <th>best_seller</th>\n",
              "    </tr>\n",
              "  </thead>\n",
              "  <tbody>\n",
              "    <tr>\n",
              "      <th>0</th>\n",
              "      <td>89</td>\n",
              "      <td>154</td>\n",
              "      <td>385416342</td>\n",
              "      <td>The Firm</td>\n",
              "      <td>John Grisham</td>\n",
              "      <td>101851</td>\n",
              "      <td>8.0</td>\n",
              "      <td>True</td>\n",
              "    </tr>\n",
              "    <tr>\n",
              "      <th>1</th>\n",
              "      <td>89</td>\n",
              "      <td>679</td>\n",
              "      <td>399501487</td>\n",
              "      <td>Lord of the Flies</td>\n",
              "      <td>William Gerald Golding</td>\n",
              "      <td>101851</td>\n",
              "      <td>8.0</td>\n",
              "      <td>True</td>\n",
              "    </tr>\n",
              "    <tr>\n",
              "      <th>2</th>\n",
              "      <td>89</td>\n",
              "      <td>845</td>\n",
              "      <td>441328008</td>\n",
              "      <td>Heretics of Dune (Dune Chronicles, Book 5)</td>\n",
              "      <td>Frank Herbert</td>\n",
              "      <td>101851</td>\n",
              "      <td>7.0</td>\n",
              "      <td>True</td>\n",
              "    </tr>\n",
              "    <tr>\n",
              "      <th>3</th>\n",
              "      <td>89</td>\n",
              "      <td>846</td>\n",
              "      <td>441294677</td>\n",
              "      <td>God Emperor of Dune (Dune Chronicles, Book 4)</td>\n",
              "      <td>Frank Herbert</td>\n",
              "      <td>101851</td>\n",
              "      <td>7.0</td>\n",
              "      <td>False</td>\n",
              "    </tr>\n",
              "    <tr>\n",
              "      <th>4</th>\n",
              "      <td>89</td>\n",
              "      <td>1030</td>\n",
              "      <td>618002219</td>\n",
              "      <td>The Hobbit: or There and Back Again</td>\n",
              "      <td>J.R.R. Tolkien</td>\n",
              "      <td>101851</td>\n",
              "      <td>10.0</td>\n",
              "      <td>True</td>\n",
              "    </tr>\n",
              "    <tr>\n",
              "      <th>5</th>\n",
              "      <td>89</td>\n",
              "      <td>1283</td>\n",
              "      <td>811802981</td>\n",
              "      <td>The Golden Mean: In Which the Extraordinary Co...</td>\n",
              "      <td>Nick Bantock</td>\n",
              "      <td>101851</td>\n",
              "      <td>10.0</td>\n",
              "      <td>True</td>\n",
              "    </tr>\n",
              "    <tr>\n",
              "      <th>6</th>\n",
              "      <td>89</td>\n",
              "      <td>1873</td>\n",
              "      <td>439139597</td>\n",
              "      <td>Harry Potter and the Goblet of Fire (Book 4)</td>\n",
              "      <td>J. K. Rowling</td>\n",
              "      <td>101851</td>\n",
              "      <td>10.0</td>\n",
              "      <td>True</td>\n",
              "    </tr>\n",
              "    <tr>\n",
              "      <th>7</th>\n",
              "      <td>89</td>\n",
              "      <td>3115</td>\n",
              "      <td>60652934</td>\n",
              "      <td>The Screwtape Letters</td>\n",
              "      <td>C. S. Lewis</td>\n",
              "      <td>101851</td>\n",
              "      <td>9.0</td>\n",
              "      <td>True</td>\n",
              "    </tr>\n",
              "    <tr>\n",
              "      <th>8</th>\n",
              "      <td>89</td>\n",
              "      <td>3451</td>\n",
              "      <td>761539220</td>\n",
              "      <td>The Sims Vacation: Expansion Pack: Prima's Off...</td>\n",
              "      <td>David Chong</td>\n",
              "      <td>101851</td>\n",
              "      <td>9.0</td>\n",
              "      <td>True</td>\n",
              "    </tr>\n",
              "    <tr>\n",
              "      <th>9</th>\n",
              "      <td>89</td>\n",
              "      <td>3916</td>\n",
              "      <td>345338588</td>\n",
              "      <td>On a Pale Horse (Incarnations of Immortality, ...</td>\n",
              "      <td>Piers Anthony</td>\n",
              "      <td>101851</td>\n",
              "      <td>9.0</td>\n",
              "      <td>False</td>\n",
              "    </tr>\n",
              "    <tr>\n",
              "      <th>10</th>\n",
              "      <td>89</td>\n",
              "      <td>4282</td>\n",
              "      <td>836220870</td>\n",
              "      <td>Hound Of The Far Side (Far Side Books, Collect...</td>\n",
              "      <td>Gary Larson</td>\n",
              "      <td>101851</td>\n",
              "      <td>9.0</td>\n",
              "      <td>True</td>\n",
              "    </tr>\n",
              "    <tr>\n",
              "      <th>11</th>\n",
              "      <td>89</td>\n",
              "      <td>7013</td>\n",
              "      <td>440407028</td>\n",
              "      <td>The Book of Three (Chronicles of Prydain (Pape...</td>\n",
              "      <td>LLOYD ALEXANDER</td>\n",
              "      <td>101851</td>\n",
              "      <td>10.0</td>\n",
              "      <td>True</td>\n",
              "    </tr>\n",
              "    <tr>\n",
              "      <th>12</th>\n",
              "      <td>89</td>\n",
              "      <td>10060</td>\n",
              "      <td>806961511</td>\n",
              "      <td>Quick-To-Solve Brainteasers (Mensa)</td>\n",
              "      <td>J.J. Mendoza Fernandez</td>\n",
              "      <td>101851</td>\n",
              "      <td>10.0</td>\n",
              "      <td>True</td>\n",
              "    </tr>\n",
              "    <tr>\n",
              "      <th>13</th>\n",
              "      <td>89</td>\n",
              "      <td>13690</td>\n",
              "      <td>1887374426</td>\n",
              "      <td>The Complete Candlemaker: Techniques, Projects...</td>\n",
              "      <td>Norma Coney</td>\n",
              "      <td>101851</td>\n",
              "      <td>9.0</td>\n",
              "      <td>True</td>\n",
              "    </tr>\n",
              "    <tr>\n",
              "      <th>14</th>\n",
              "      <td>89</td>\n",
              "      <td>15196</td>\n",
              "      <td>425086836</td>\n",
              "      <td>Stalking the Nightmare</td>\n",
              "      <td>Harlan Ellison</td>\n",
              "      <td>101851</td>\n",
              "      <td>10.0</td>\n",
              "      <td>True</td>\n",
              "    </tr>\n",
              "    <tr>\n",
              "      <th>15</th>\n",
              "      <td>89</td>\n",
              "      <td>16902</td>\n",
              "      <td>140132503</td>\n",
              "      <td>Modern Ireland, 1600-1972</td>\n",
              "      <td>R.F. Foster</td>\n",
              "      <td>101851</td>\n",
              "      <td>8.0</td>\n",
              "      <td>True</td>\n",
              "    </tr>\n",
              "    <tr>\n",
              "      <th>16</th>\n",
              "      <td>89</td>\n",
              "      <td>17155</td>\n",
              "      <td>380791854</td>\n",
              "      <td>Lathe of Heaven</td>\n",
              "      <td>Ursula K. Le Guin</td>\n",
              "      <td>101851</td>\n",
              "      <td>10.0</td>\n",
              "      <td>True</td>\n",
              "    </tr>\n",
              "    <tr>\n",
              "      <th>17</th>\n",
              "      <td>89</td>\n",
              "      <td>20872</td>\n",
              "      <td>804803919</td>\n",
              "      <td>Mah Jong for Beginners (Books to Span the East...</td>\n",
              "      <td>Shozo Kanai</td>\n",
              "      <td>101851</td>\n",
              "      <td>10.0</td>\n",
              "      <td>False</td>\n",
              "    </tr>\n",
              "    <tr>\n",
              "      <th>18</th>\n",
              "      <td>89</td>\n",
              "      <td>22195</td>\n",
              "      <td>890877858</td>\n",
              "      <td>The Totally Picnic Cookbook (Totally Cookbooks)</td>\n",
              "      <td>Helene Siegel</td>\n",
              "      <td>101851</td>\n",
              "      <td>10.0</td>\n",
              "      <td>True</td>\n",
              "    </tr>\n",
              "    <tr>\n",
              "      <th>19</th>\n",
              "      <td>89</td>\n",
              "      <td>25037</td>\n",
              "      <td>517560070</td>\n",
              "      <td>Having Tea: Recipes and Table Settings</td>\n",
              "      <td>Tricia Foley</td>\n",
              "      <td>101851</td>\n",
              "      <td>10.0</td>\n",
              "      <td>False</td>\n",
              "    </tr>\n",
              "    <tr>\n",
              "      <th>20</th>\n",
              "      <td>89</td>\n",
              "      <td>25944</td>\n",
              "      <td>1555601804</td>\n",
              "      <td>Shadowrun</td>\n",
              "      <td>Jordan Weisman</td>\n",
              "      <td>101851</td>\n",
              "      <td>9.0</td>\n",
              "      <td>True</td>\n",
              "    </tr>\n",
              "    <tr>\n",
              "      <th>21</th>\n",
              "      <td>89</td>\n",
              "      <td>26308</td>\n",
              "      <td>834804530</td>\n",
              "      <td>Mangajin's Basic Japanese Through Comics (Part 2)</td>\n",
              "      <td>Mangajin</td>\n",
              "      <td>101851</td>\n",
              "      <td>10.0</td>\n",
              "      <td>True</td>\n",
              "    </tr>\n",
              "    <tr>\n",
              "      <th>22</th>\n",
              "      <td>89</td>\n",
              "      <td>27873</td>\n",
              "      <td>890879486</td>\n",
              "      <td>The Totally Carrots Cookbook</td>\n",
              "      <td>Helene Siegel</td>\n",
              "      <td>101851</td>\n",
              "      <td>10.0</td>\n",
              "      <td>False</td>\n",
              "    </tr>\n",
              "    <tr>\n",
              "      <th>23</th>\n",
              "      <td>89</td>\n",
              "      <td>27879</td>\n",
              "      <td>890878242</td>\n",
              "      <td>Totally Salmon (Totally Seafood Series)</td>\n",
              "      <td>Helene Siegel</td>\n",
              "      <td>101851</td>\n",
              "      <td>10.0</td>\n",
              "      <td>True</td>\n",
              "    </tr>\n",
              "    <tr>\n",
              "      <th>24</th>\n",
              "      <td>89</td>\n",
              "      <td>27888</td>\n",
              "      <td>890877882</td>\n",
              "      <td>The Totally Tomato Cookbook (Totally Cookbooks)</td>\n",
              "      <td>Helene Siegel</td>\n",
              "      <td>101851</td>\n",
              "      <td>10.0</td>\n",
              "      <td>True</td>\n",
              "    </tr>\n",
              "    <tr>\n",
              "      <th>25</th>\n",
              "      <td>89</td>\n",
              "      <td>27889</td>\n",
              "      <td>890877866</td>\n",
              "      <td>The Totally Pizza Cookbook (Totally Cookbooks)</td>\n",
              "      <td>Helene Siegel</td>\n",
              "      <td>101851</td>\n",
              "      <td>10.0</td>\n",
              "      <td>True</td>\n",
              "    </tr>\n",
              "    <tr>\n",
              "      <th>26</th>\n",
              "      <td>89</td>\n",
              "      <td>27896</td>\n",
              "      <td>4789005178</td>\n",
              "      <td>Kana Can Be Easy</td>\n",
              "      <td>Kunihiko Ogawa</td>\n",
              "      <td>101851</td>\n",
              "      <td>9.0</td>\n",
              "      <td>False</td>\n",
              "    </tr>\n",
              "    <tr>\n",
              "      <th>27</th>\n",
              "      <td>89</td>\n",
              "      <td>27902</td>\n",
              "      <td>4770027818</td>\n",
              "      <td>All About Particles: A Handbook of Japanese Fu...</td>\n",
              "      <td>Naoko Chino</td>\n",
              "      <td>101851</td>\n",
              "      <td>9.0</td>\n",
              "      <td>True</td>\n",
              "    </tr>\n",
              "    <tr>\n",
              "      <th>28</th>\n",
              "      <td>89</td>\n",
              "      <td>27903</td>\n",
              "      <td>4770026080</td>\n",
              "      <td>A Dictionary of Basic Japanese Sentence Patter...</td>\n",
              "      <td>Naoko Chino</td>\n",
              "      <td>101851</td>\n",
              "      <td>10.0</td>\n",
              "      <td>True</td>\n",
              "    </tr>\n",
              "    <tr>\n",
              "      <th>29</th>\n",
              "      <td>89</td>\n",
              "      <td>27922</td>\n",
              "      <td>1565042115</td>\n",
              "      <td>Clanbook: Lasombra</td>\n",
              "      <td>Richard Dansky</td>\n",
              "      <td>101851</td>\n",
              "      <td>7.0</td>\n",
              "      <td>False</td>\n",
              "    </tr>\n",
              "    <tr>\n",
              "      <th>30</th>\n",
              "      <td>89</td>\n",
              "      <td>27923</td>\n",
              "      <td>890879478</td>\n",
              "      <td>The Totally Potato Cookbook (Totally Cookbooks)</td>\n",
              "      <td>Helene Siegel</td>\n",
              "      <td>101851</td>\n",
              "      <td>10.0</td>\n",
              "      <td>True</td>\n",
              "    </tr>\n",
              "    <tr>\n",
              "      <th>31</th>\n",
              "      <td>89</td>\n",
              "      <td>27935</td>\n",
              "      <td>1843090678</td>\n",
              "      <td>Chinese: The Essence of Asian Cooking</td>\n",
              "      <td>Linda Doeser</td>\n",
              "      <td>101851</td>\n",
              "      <td>9.0</td>\n",
              "      <td>False</td>\n",
              "    </tr>\n",
              "    <tr>\n",
              "      <th>32</th>\n",
              "      <td>89</td>\n",
              "      <td>27936</td>\n",
              "      <td>62512102</td>\n",
              "      <td>Mystic Cats: A Celebration of Cat Magic &amp;amp; ...</td>\n",
              "      <td>Roni Jay</td>\n",
              "      <td>101851</td>\n",
              "      <td>9.0</td>\n",
              "      <td>False</td>\n",
              "    </tr>\n",
              "    <tr>\n",
              "      <th>33</th>\n",
              "      <td>89</td>\n",
              "      <td>27961</td>\n",
              "      <td>451524586</td>\n",
              "      <td>Mysterious Stranger and Other Stories</td>\n",
              "      <td>Mark Twain</td>\n",
              "      <td>101851</td>\n",
              "      <td>9.0</td>\n",
              "      <td>True</td>\n",
              "    </tr>\n",
              "    <tr>\n",
              "      <th>34</th>\n",
              "      <td>89</td>\n",
              "      <td>27970</td>\n",
              "      <td>916211320</td>\n",
              "      <td>Robotech Rpg Adventures: Rdf Accelerated Train...</td>\n",
              "      <td>Gary Reed</td>\n",
              "      <td>101851</td>\n",
              "      <td>8.0</td>\n",
              "      <td>True</td>\n",
              "    </tr>\n",
              "    <tr>\n",
              "      <th>35</th>\n",
              "      <td>89</td>\n",
              "      <td>27978</td>\n",
              "      <td>916211630</td>\n",
              "      <td>Macross Sourcebook 1 (Macross II)</td>\n",
              "      <td>Kevin Siembieda</td>\n",
              "      <td>101851</td>\n",
              "      <td>9.0</td>\n",
              "      <td>True</td>\n",
              "    </tr>\n",
              "    <tr>\n",
              "      <th>36</th>\n",
              "      <td>89</td>\n",
              "      <td>28013</td>\n",
              "      <td>874312221</td>\n",
              "      <td>Planets Collection (Star Wars RPG)</td>\n",
              "      <td>West End Games</td>\n",
              "      <td>101851</td>\n",
              "      <td>9.0</td>\n",
              "      <td>True</td>\n",
              "    </tr>\n",
              "    <tr>\n",
              "      <th>37</th>\n",
              "      <td>89</td>\n",
              "      <td>28016</td>\n",
              "      <td>761540806</td>\n",
              "      <td>Robotech Battlecry: Prima's Official Strategy ...</td>\n",
              "      <td>MICHAEL KNIGHT</td>\n",
              "      <td>101851</td>\n",
              "      <td>8.0</td>\n",
              "      <td>True</td>\n",
              "    </tr>\n",
              "    <tr>\n",
              "      <th>38</th>\n",
              "      <td>89</td>\n",
              "      <td>28041</td>\n",
              "      <td>811820785</td>\n",
              "      <td>Picnics: Elegant Recipes for Alfresco Dining</td>\n",
              "      <td>Barbara Scott-Goodman</td>\n",
              "      <td>101851</td>\n",
              "      <td>9.0</td>\n",
              "      <td>True</td>\n",
              "    </tr>\n",
              "    <tr>\n",
              "      <th>39</th>\n",
              "      <td>89</td>\n",
              "      <td>28054</td>\n",
              "      <td>1565041127</td>\n",
              "      <td>Werewolf: The Apocalypse (Werewolf)</td>\n",
              "      <td>Mark Rein-Hagen</td>\n",
              "      <td>101851</td>\n",
              "      <td>9.0</td>\n",
              "      <td>False</td>\n",
              "    </tr>\n",
              "    <tr>\n",
              "      <th>40</th>\n",
              "      <td>89</td>\n",
              "      <td>28065</td>\n",
              "      <td>1565046137</td>\n",
              "      <td>The Quick and the Dead (Wraith - the Oblivion)</td>\n",
              "      <td>Beth Fischi</td>\n",
              "      <td>101851</td>\n",
              "      <td>7.0</td>\n",
              "      <td>True</td>\n",
              "    </tr>\n",
              "    <tr>\n",
              "      <th>41</th>\n",
              "      <td>89</td>\n",
              "      <td>28092</td>\n",
              "      <td>1930206054</td>\n",
              "      <td>Official Nintendo Power the Legend of Zelda: M...</td>\n",
              "      <td>Nintendo of America Staff</td>\n",
              "      <td>101851</td>\n",
              "      <td>9.0</td>\n",
              "      <td>True</td>\n",
              "    </tr>\n",
              "    <tr>\n",
              "      <th>42</th>\n",
              "      <td>89</td>\n",
              "      <td>28095</td>\n",
              "      <td>1566868246</td>\n",
              "      <td>Parasite Eve : Official Strategy Guide</td>\n",
              "      <td>David Cassady</td>\n",
              "      <td>101851</td>\n",
              "      <td>9.0</td>\n",
              "      <td>True</td>\n",
              "    </tr>\n",
              "    <tr>\n",
              "      <th>43</th>\n",
              "      <td>89</td>\n",
              "      <td>28114</td>\n",
              "      <td>873416392</td>\n",
              "      <td>Confederate States Paper Money (Confederate St...</td>\n",
              "      <td>Arlie Slabaugh</td>\n",
              "      <td>101851</td>\n",
              "      <td>7.0</td>\n",
              "      <td>True</td>\n",
              "    </tr>\n",
              "    <tr>\n",
              "      <th>44</th>\n",
              "      <td>89</td>\n",
              "      <td>28130</td>\n",
              "      <td>1564773000</td>\n",
              "      <td>In the Studio with Judy Murrah</td>\n",
              "      <td>Judy Murrah</td>\n",
              "      <td>101851</td>\n",
              "      <td>8.0</td>\n",
              "      <td>True</td>\n",
              "    </tr>\n",
              "    <tr>\n",
              "      <th>45</th>\n",
              "      <td>89</td>\n",
              "      <td>28140</td>\n",
              "      <td>672301687</td>\n",
              "      <td>Advanced C/Book and Disk</td>\n",
              "      <td>Peter D. Hipson</td>\n",
              "      <td>101851</td>\n",
              "      <td>7.0</td>\n",
              "      <td>True</td>\n",
              "    </tr>\n",
              "  </tbody>\n",
              "</table>\n",
              "</div>\n",
              "    <div class=\"colab-df-buttons\">\n",
              "\n",
              "  <div class=\"colab-df-container\">\n",
              "    <button class=\"colab-df-convert\" onclick=\"convertToInteractive('df-2763590f-a28c-434c-a131-e62ebf308aa6')\"\n",
              "            title=\"Convert this dataframe to an interactive table.\"\n",
              "            style=\"display:none;\">\n",
              "\n",
              "  <svg xmlns=\"http://www.w3.org/2000/svg\" height=\"24px\" viewBox=\"0 -960 960 960\">\n",
              "    <path d=\"M120-120v-720h720v720H120Zm60-500h600v-160H180v160Zm220 220h160v-160H400v160Zm0 220h160v-160H400v160ZM180-400h160v-160H180v160Zm440 0h160v-160H620v160ZM180-180h160v-160H180v160Zm440 0h160v-160H620v160Z\"/>\n",
              "  </svg>\n",
              "    </button>\n",
              "\n",
              "  <style>\n",
              "    .colab-df-container {\n",
              "      display:flex;\n",
              "      gap: 12px;\n",
              "    }\n",
              "\n",
              "    .colab-df-convert {\n",
              "      background-color: #E8F0FE;\n",
              "      border: none;\n",
              "      border-radius: 50%;\n",
              "      cursor: pointer;\n",
              "      display: none;\n",
              "      fill: #1967D2;\n",
              "      height: 32px;\n",
              "      padding: 0 0 0 0;\n",
              "      width: 32px;\n",
              "    }\n",
              "\n",
              "    .colab-df-convert:hover {\n",
              "      background-color: #E2EBFA;\n",
              "      box-shadow: 0px 1px 2px rgba(60, 64, 67, 0.3), 0px 1px 3px 1px rgba(60, 64, 67, 0.15);\n",
              "      fill: #174EA6;\n",
              "    }\n",
              "\n",
              "    .colab-df-buttons div {\n",
              "      margin-bottom: 4px;\n",
              "    }\n",
              "\n",
              "    [theme=dark] .colab-df-convert {\n",
              "      background-color: #3B4455;\n",
              "      fill: #D2E3FC;\n",
              "    }\n",
              "\n",
              "    [theme=dark] .colab-df-convert:hover {\n",
              "      background-color: #434B5C;\n",
              "      box-shadow: 0px 1px 3px 1px rgba(0, 0, 0, 0.15);\n",
              "      filter: drop-shadow(0px 1px 2px rgba(0, 0, 0, 0.3));\n",
              "      fill: #FFFFFF;\n",
              "    }\n",
              "  </style>\n",
              "\n",
              "    <script>\n",
              "      const buttonEl =\n",
              "        document.querySelector('#df-2763590f-a28c-434c-a131-e62ebf308aa6 button.colab-df-convert');\n",
              "      buttonEl.style.display =\n",
              "        google.colab.kernel.accessAllowed ? 'block' : 'none';\n",
              "\n",
              "      async function convertToInteractive(key) {\n",
              "        const element = document.querySelector('#df-2763590f-a28c-434c-a131-e62ebf308aa6');\n",
              "        const dataTable =\n",
              "          await google.colab.kernel.invokeFunction('convertToInteractive',\n",
              "                                                    [key], {});\n",
              "        if (!dataTable) return;\n",
              "\n",
              "        const docLinkHtml = 'Like what you see? Visit the ' +\n",
              "          '<a target=\"_blank\" href=https://colab.research.google.com/notebooks/data_table.ipynb>data table notebook</a>'\n",
              "          + ' to learn more about interactive tables.';\n",
              "        element.innerHTML = '';\n",
              "        dataTable['output_type'] = 'display_data';\n",
              "        await google.colab.output.renderOutput(dataTable, element);\n",
              "        const docLink = document.createElement('div');\n",
              "        docLink.innerHTML = docLinkHtml;\n",
              "        element.appendChild(docLink);\n",
              "      }\n",
              "    </script>\n",
              "  </div>\n",
              "\n",
              "\n",
              "<div id=\"df-63b6bd44-8890-4613-bad0-af67c4ead5ca\">\n",
              "  <button class=\"colab-df-quickchart\" onclick=\"quickchart('df-63b6bd44-8890-4613-bad0-af67c4ead5ca')\"\n",
              "            title=\"Suggest charts\"\n",
              "            style=\"display:none;\">\n",
              "\n",
              "<svg xmlns=\"http://www.w3.org/2000/svg\" height=\"24px\"viewBox=\"0 0 24 24\"\n",
              "     width=\"24px\">\n",
              "    <g>\n",
              "        <path d=\"M19 3H5c-1.1 0-2 .9-2 2v14c0 1.1.9 2 2 2h14c1.1 0 2-.9 2-2V5c0-1.1-.9-2-2-2zM9 17H7v-7h2v7zm4 0h-2V7h2v10zm4 0h-2v-4h2v4z\"/>\n",
              "    </g>\n",
              "</svg>\n",
              "  </button>\n",
              "\n",
              "<style>\n",
              "  .colab-df-quickchart {\n",
              "      --bg-color: #E8F0FE;\n",
              "      --fill-color: #1967D2;\n",
              "      --hover-bg-color: #E2EBFA;\n",
              "      --hover-fill-color: #174EA6;\n",
              "      --disabled-fill-color: #AAA;\n",
              "      --disabled-bg-color: #DDD;\n",
              "  }\n",
              "\n",
              "  [theme=dark] .colab-df-quickchart {\n",
              "      --bg-color: #3B4455;\n",
              "      --fill-color: #D2E3FC;\n",
              "      --hover-bg-color: #434B5C;\n",
              "      --hover-fill-color: #FFFFFF;\n",
              "      --disabled-bg-color: #3B4455;\n",
              "      --disabled-fill-color: #666;\n",
              "  }\n",
              "\n",
              "  .colab-df-quickchart {\n",
              "    background-color: var(--bg-color);\n",
              "    border: none;\n",
              "    border-radius: 50%;\n",
              "    cursor: pointer;\n",
              "    display: none;\n",
              "    fill: var(--fill-color);\n",
              "    height: 32px;\n",
              "    padding: 0;\n",
              "    width: 32px;\n",
              "  }\n",
              "\n",
              "  .colab-df-quickchart:hover {\n",
              "    background-color: var(--hover-bg-color);\n",
              "    box-shadow: 0 1px 2px rgba(60, 64, 67, 0.3), 0 1px 3px 1px rgba(60, 64, 67, 0.15);\n",
              "    fill: var(--button-hover-fill-color);\n",
              "  }\n",
              "\n",
              "  .colab-df-quickchart-complete:disabled,\n",
              "  .colab-df-quickchart-complete:disabled:hover {\n",
              "    background-color: var(--disabled-bg-color);\n",
              "    fill: var(--disabled-fill-color);\n",
              "    box-shadow: none;\n",
              "  }\n",
              "\n",
              "  .colab-df-spinner {\n",
              "    border: 2px solid var(--fill-color);\n",
              "    border-color: transparent;\n",
              "    border-bottom-color: var(--fill-color);\n",
              "    animation:\n",
              "      spin 1s steps(1) infinite;\n",
              "  }\n",
              "\n",
              "  @keyframes spin {\n",
              "    0% {\n",
              "      border-color: transparent;\n",
              "      border-bottom-color: var(--fill-color);\n",
              "      border-left-color: var(--fill-color);\n",
              "    }\n",
              "    20% {\n",
              "      border-color: transparent;\n",
              "      border-left-color: var(--fill-color);\n",
              "      border-top-color: var(--fill-color);\n",
              "    }\n",
              "    30% {\n",
              "      border-color: transparent;\n",
              "      border-left-color: var(--fill-color);\n",
              "      border-top-color: var(--fill-color);\n",
              "      border-right-color: var(--fill-color);\n",
              "    }\n",
              "    40% {\n",
              "      border-color: transparent;\n",
              "      border-right-color: var(--fill-color);\n",
              "      border-top-color: var(--fill-color);\n",
              "    }\n",
              "    60% {\n",
              "      border-color: transparent;\n",
              "      border-right-color: var(--fill-color);\n",
              "    }\n",
              "    80% {\n",
              "      border-color: transparent;\n",
              "      border-right-color: var(--fill-color);\n",
              "      border-bottom-color: var(--fill-color);\n",
              "    }\n",
              "    90% {\n",
              "      border-color: transparent;\n",
              "      border-bottom-color: var(--fill-color);\n",
              "    }\n",
              "  }\n",
              "</style>\n",
              "\n",
              "  <script>\n",
              "    async function quickchart(key) {\n",
              "      const quickchartButtonEl =\n",
              "        document.querySelector('#' + key + ' button');\n",
              "      quickchartButtonEl.disabled = true;  // To prevent multiple clicks.\n",
              "      quickchartButtonEl.classList.add('colab-df-spinner');\n",
              "      try {\n",
              "        const charts = await google.colab.kernel.invokeFunction(\n",
              "            'suggestCharts', [key], {});\n",
              "      } catch (error) {\n",
              "        console.error('Error during call to suggestCharts:', error);\n",
              "      }\n",
              "      quickchartButtonEl.classList.remove('colab-df-spinner');\n",
              "      quickchartButtonEl.classList.add('colab-df-quickchart-complete');\n",
              "    }\n",
              "    (() => {\n",
              "      let quickchartButtonEl =\n",
              "        document.querySelector('#df-63b6bd44-8890-4613-bad0-af67c4ead5ca button');\n",
              "      quickchartButtonEl.style.display =\n",
              "        google.colab.kernel.accessAllowed ? 'block' : 'none';\n",
              "    })();\n",
              "  </script>\n",
              "</div>\n",
              "    </div>\n",
              "  </div>\n"
            ]
          },
          "metadata": {},
          "execution_count": 10
        }
      ],
      "source": [
        "temp_test_data = test_data[test_data.user == random_user]\n",
        "temp = pd.merge(temp_test_data, filtered_df, on=['user', 'book'])\n",
        "temp"
      ]
    },
    {
      "cell_type": "code",
      "execution_count": null,
      "metadata": {
        "id": "YvLqqwH-A40j"
      },
      "outputs": [],
      "source": [
        "recommendations = []\n",
        "\n",
        "for model, state_representation in zip([policy], [state_rep]):\n",
        "    env = Environment(test_matrix)\n",
        "    user, memory = env.reset(random_user)\n",
        "\n",
        "    # give 2 books that the user has rated in the past\n",
        "    user, memory, reward, _ = env.step(torch.tensor([27873]))\n",
        "    user, memory, reward, _ = env.step(torch.tensor([27879]))\n",
        "\n",
        "    # get next 3 recommendations based on the two books above\n",
        "    recs = []\n",
        "    for i in range(3):\n",
        "        action_emb = model(state_representation(user, memory))\n",
        "        action = model.get_action(\n",
        "            user,\n",
        "            torch.tensor(env.memory[user.detach().cpu().numpy().astype(int), :]),\n",
        "            state_representation,\n",
        "            action_emb,\n",
        "            torch.tensor([item for item in env.available_books if item not in env.viewed_books]).long()\n",
        "        )\n",
        "        user, memory, reward, _ = env.step(action)\n",
        "        recs.append(action)\n",
        "\n",
        "    recommendations.append(recs)"
      ]
    },
    {
      "cell_type": "code",
      "execution_count": null,
      "metadata": {
        "colab": {
          "base_uri": "https://localhost:8080/"
        },
        "id": "PZZbyOkohaYM",
        "outputId": "c15845fe-f402-40f1-ae74-f4118628cc1d"
      },
      "outputs": [
        {
          "output_type": "execute_result",
          "data": {
            "text/plain": [
              "[1873, 10121, 17830]"
            ]
          },
          "metadata": {},
          "execution_count": 12
        }
      ],
      "source": [
        "recos = [r.item() for r in recommendations[0]]\n",
        "recos"
      ]
    },
    {
      "cell_type": "code",
      "execution_count": null,
      "metadata": {
        "colab": {
          "base_uri": "https://localhost:8080/",
          "height": 143
        },
        "id": "FKal0cjnjbYE",
        "outputId": "45cc43c2-c271-431b-a8fa-662271524126"
      },
      "outputs": [
        {
          "output_type": "execute_result",
          "data": {
            "text/plain": [
              "                                               title           author  \\\n",
              "67764   Harry Potter and the Goblet of Fire (Book 4)    J. K. Rowling   \n",
              "185486                             Dead Man's Mirror  Agatha Christie   \n",
              "257056                     Village Square (Homespun)  Linda Eberhardt   \n",
              "\n",
              "        best_seller  \n",
              "67764          True  \n",
              "185486         True  \n",
              "257056         True  "
            ],
            "text/html": [
              "\n",
              "  <div id=\"df-2f21ab87-847f-4f3b-b77d-5daefa9aa556\" class=\"colab-df-container\">\n",
              "    <div>\n",
              "<style scoped>\n",
              "    .dataframe tbody tr th:only-of-type {\n",
              "        vertical-align: middle;\n",
              "    }\n",
              "\n",
              "    .dataframe tbody tr th {\n",
              "        vertical-align: top;\n",
              "    }\n",
              "\n",
              "    .dataframe thead th {\n",
              "        text-align: right;\n",
              "    }\n",
              "</style>\n",
              "<table border=\"1\" class=\"dataframe\">\n",
              "  <thead>\n",
              "    <tr style=\"text-align: right;\">\n",
              "      <th></th>\n",
              "      <th>title</th>\n",
              "      <th>author</th>\n",
              "      <th>best_seller</th>\n",
              "    </tr>\n",
              "  </thead>\n",
              "  <tbody>\n",
              "    <tr>\n",
              "      <th>67764</th>\n",
              "      <td>Harry Potter and the Goblet of Fire (Book 4)</td>\n",
              "      <td>J. K. Rowling</td>\n",
              "      <td>True</td>\n",
              "    </tr>\n",
              "    <tr>\n",
              "      <th>185486</th>\n",
              "      <td>Dead Man's Mirror</td>\n",
              "      <td>Agatha Christie</td>\n",
              "      <td>True</td>\n",
              "    </tr>\n",
              "    <tr>\n",
              "      <th>257056</th>\n",
              "      <td>Village Square (Homespun)</td>\n",
              "      <td>Linda Eberhardt</td>\n",
              "      <td>True</td>\n",
              "    </tr>\n",
              "  </tbody>\n",
              "</table>\n",
              "</div>\n",
              "    <div class=\"colab-df-buttons\">\n",
              "\n",
              "  <div class=\"colab-df-container\">\n",
              "    <button class=\"colab-df-convert\" onclick=\"convertToInteractive('df-2f21ab87-847f-4f3b-b77d-5daefa9aa556')\"\n",
              "            title=\"Convert this dataframe to an interactive table.\"\n",
              "            style=\"display:none;\">\n",
              "\n",
              "  <svg xmlns=\"http://www.w3.org/2000/svg\" height=\"24px\" viewBox=\"0 -960 960 960\">\n",
              "    <path d=\"M120-120v-720h720v720H120Zm60-500h600v-160H180v160Zm220 220h160v-160H400v160Zm0 220h160v-160H400v160ZM180-400h160v-160H180v160Zm440 0h160v-160H620v160ZM180-180h160v-160H180v160Zm440 0h160v-160H620v160Z\"/>\n",
              "  </svg>\n",
              "    </button>\n",
              "\n",
              "  <style>\n",
              "    .colab-df-container {\n",
              "      display:flex;\n",
              "      gap: 12px;\n",
              "    }\n",
              "\n",
              "    .colab-df-convert {\n",
              "      background-color: #E8F0FE;\n",
              "      border: none;\n",
              "      border-radius: 50%;\n",
              "      cursor: pointer;\n",
              "      display: none;\n",
              "      fill: #1967D2;\n",
              "      height: 32px;\n",
              "      padding: 0 0 0 0;\n",
              "      width: 32px;\n",
              "    }\n",
              "\n",
              "    .colab-df-convert:hover {\n",
              "      background-color: #E2EBFA;\n",
              "      box-shadow: 0px 1px 2px rgba(60, 64, 67, 0.3), 0px 1px 3px 1px rgba(60, 64, 67, 0.15);\n",
              "      fill: #174EA6;\n",
              "    }\n",
              "\n",
              "    .colab-df-buttons div {\n",
              "      margin-bottom: 4px;\n",
              "    }\n",
              "\n",
              "    [theme=dark] .colab-df-convert {\n",
              "      background-color: #3B4455;\n",
              "      fill: #D2E3FC;\n",
              "    }\n",
              "\n",
              "    [theme=dark] .colab-df-convert:hover {\n",
              "      background-color: #434B5C;\n",
              "      box-shadow: 0px 1px 3px 1px rgba(0, 0, 0, 0.15);\n",
              "      filter: drop-shadow(0px 1px 2px rgba(0, 0, 0, 0.3));\n",
              "      fill: #FFFFFF;\n",
              "    }\n",
              "  </style>\n",
              "\n",
              "    <script>\n",
              "      const buttonEl =\n",
              "        document.querySelector('#df-2f21ab87-847f-4f3b-b77d-5daefa9aa556 button.colab-df-convert');\n",
              "      buttonEl.style.display =\n",
              "        google.colab.kernel.accessAllowed ? 'block' : 'none';\n",
              "\n",
              "      async function convertToInteractive(key) {\n",
              "        const element = document.querySelector('#df-2f21ab87-847f-4f3b-b77d-5daefa9aa556');\n",
              "        const dataTable =\n",
              "          await google.colab.kernel.invokeFunction('convertToInteractive',\n",
              "                                                    [key], {});\n",
              "        if (!dataTable) return;\n",
              "\n",
              "        const docLinkHtml = 'Like what you see? Visit the ' +\n",
              "          '<a target=\"_blank\" href=https://colab.research.google.com/notebooks/data_table.ipynb>data table notebook</a>'\n",
              "          + ' to learn more about interactive tables.';\n",
              "        element.innerHTML = '';\n",
              "        dataTable['output_type'] = 'display_data';\n",
              "        await google.colab.output.renderOutput(dataTable, element);\n",
              "        const docLink = document.createElement('div');\n",
              "        docLink.innerHTML = docLinkHtml;\n",
              "        element.appendChild(docLink);\n",
              "      }\n",
              "    </script>\n",
              "  </div>\n",
              "\n",
              "\n",
              "<div id=\"df-a316b030-0e60-485f-9613-8d816a67d1aa\">\n",
              "  <button class=\"colab-df-quickchart\" onclick=\"quickchart('df-a316b030-0e60-485f-9613-8d816a67d1aa')\"\n",
              "            title=\"Suggest charts\"\n",
              "            style=\"display:none;\">\n",
              "\n",
              "<svg xmlns=\"http://www.w3.org/2000/svg\" height=\"24px\"viewBox=\"0 0 24 24\"\n",
              "     width=\"24px\">\n",
              "    <g>\n",
              "        <path d=\"M19 3H5c-1.1 0-2 .9-2 2v14c0 1.1.9 2 2 2h14c1.1 0 2-.9 2-2V5c0-1.1-.9-2-2-2zM9 17H7v-7h2v7zm4 0h-2V7h2v10zm4 0h-2v-4h2v4z\"/>\n",
              "    </g>\n",
              "</svg>\n",
              "  </button>\n",
              "\n",
              "<style>\n",
              "  .colab-df-quickchart {\n",
              "      --bg-color: #E8F0FE;\n",
              "      --fill-color: #1967D2;\n",
              "      --hover-bg-color: #E2EBFA;\n",
              "      --hover-fill-color: #174EA6;\n",
              "      --disabled-fill-color: #AAA;\n",
              "      --disabled-bg-color: #DDD;\n",
              "  }\n",
              "\n",
              "  [theme=dark] .colab-df-quickchart {\n",
              "      --bg-color: #3B4455;\n",
              "      --fill-color: #D2E3FC;\n",
              "      --hover-bg-color: #434B5C;\n",
              "      --hover-fill-color: #FFFFFF;\n",
              "      --disabled-bg-color: #3B4455;\n",
              "      --disabled-fill-color: #666;\n",
              "  }\n",
              "\n",
              "  .colab-df-quickchart {\n",
              "    background-color: var(--bg-color);\n",
              "    border: none;\n",
              "    border-radius: 50%;\n",
              "    cursor: pointer;\n",
              "    display: none;\n",
              "    fill: var(--fill-color);\n",
              "    height: 32px;\n",
              "    padding: 0;\n",
              "    width: 32px;\n",
              "  }\n",
              "\n",
              "  .colab-df-quickchart:hover {\n",
              "    background-color: var(--hover-bg-color);\n",
              "    box-shadow: 0 1px 2px rgba(60, 64, 67, 0.3), 0 1px 3px 1px rgba(60, 64, 67, 0.15);\n",
              "    fill: var(--button-hover-fill-color);\n",
              "  }\n",
              "\n",
              "  .colab-df-quickchart-complete:disabled,\n",
              "  .colab-df-quickchart-complete:disabled:hover {\n",
              "    background-color: var(--disabled-bg-color);\n",
              "    fill: var(--disabled-fill-color);\n",
              "    box-shadow: none;\n",
              "  }\n",
              "\n",
              "  .colab-df-spinner {\n",
              "    border: 2px solid var(--fill-color);\n",
              "    border-color: transparent;\n",
              "    border-bottom-color: var(--fill-color);\n",
              "    animation:\n",
              "      spin 1s steps(1) infinite;\n",
              "  }\n",
              "\n",
              "  @keyframes spin {\n",
              "    0% {\n",
              "      border-color: transparent;\n",
              "      border-bottom-color: var(--fill-color);\n",
              "      border-left-color: var(--fill-color);\n",
              "    }\n",
              "    20% {\n",
              "      border-color: transparent;\n",
              "      border-left-color: var(--fill-color);\n",
              "      border-top-color: var(--fill-color);\n",
              "    }\n",
              "    30% {\n",
              "      border-color: transparent;\n",
              "      border-left-color: var(--fill-color);\n",
              "      border-top-color: var(--fill-color);\n",
              "      border-right-color: var(--fill-color);\n",
              "    }\n",
              "    40% {\n",
              "      border-color: transparent;\n",
              "      border-right-color: var(--fill-color);\n",
              "      border-top-color: var(--fill-color);\n",
              "    }\n",
              "    60% {\n",
              "      border-color: transparent;\n",
              "      border-right-color: var(--fill-color);\n",
              "    }\n",
              "    80% {\n",
              "      border-color: transparent;\n",
              "      border-right-color: var(--fill-color);\n",
              "      border-bottom-color: var(--fill-color);\n",
              "    }\n",
              "    90% {\n",
              "      border-color: transparent;\n",
              "      border-bottom-color: var(--fill-color);\n",
              "    }\n",
              "  }\n",
              "</style>\n",
              "\n",
              "  <script>\n",
              "    async function quickchart(key) {\n",
              "      const quickchartButtonEl =\n",
              "        document.querySelector('#' + key + ' button');\n",
              "      quickchartButtonEl.disabled = true;  // To prevent multiple clicks.\n",
              "      quickchartButtonEl.classList.add('colab-df-spinner');\n",
              "      try {\n",
              "        const charts = await google.colab.kernel.invokeFunction(\n",
              "            'suggestCharts', [key], {});\n",
              "      } catch (error) {\n",
              "        console.error('Error during call to suggestCharts:', error);\n",
              "      }\n",
              "      quickchartButtonEl.classList.remove('colab-df-spinner');\n",
              "      quickchartButtonEl.classList.add('colab-df-quickchart-complete');\n",
              "    }\n",
              "    (() => {\n",
              "      let quickchartButtonEl =\n",
              "        document.querySelector('#df-a316b030-0e60-485f-9613-8d816a67d1aa button');\n",
              "      quickchartButtonEl.style.display =\n",
              "        google.colab.kernel.accessAllowed ? 'block' : 'none';\n",
              "    })();\n",
              "  </script>\n",
              "</div>\n",
              "    </div>\n",
              "  </div>\n"
            ]
          },
          "metadata": {},
          "execution_count": 13
        }
      ],
      "source": [
        "recommended_books = filtered_df[filtered_df.book.isin(recos)][['title', 'author', 'best_seller']].drop_duplicates()\n",
        "recommended_books"
      ]
    },
    {
      "cell_type": "code",
      "execution_count": null,
      "metadata": {
        "id": "-sRqwvoBjgGf"
      },
      "outputs": [],
      "source": []
    }
  ],
  "metadata": {
    "colab": {
      "provenance": []
    },
    "kernelspec": {
      "display_name": "Python 3",
      "name": "python3"
    },
    "language_info": {
      "codemirror_mode": {
        "name": "ipython",
        "version": 3
      },
      "file_extension": ".py",
      "mimetype": "text/x-python",
      "name": "python",
      "nbconvert_exporter": "python",
      "pygments_lexer": "ipython3",
      "version": "3.6.15"
    }
  },
  "nbformat": 4,
  "nbformat_minor": 0
}