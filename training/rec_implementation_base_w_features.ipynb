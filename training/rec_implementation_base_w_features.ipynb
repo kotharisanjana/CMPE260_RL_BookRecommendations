{
  "cells": [
    {
      "cell_type": "markdown",
      "metadata": {
        "id": "dYibUGi6FjSI"
      },
      "source": [
        "#### Setup"
      ]
    },
    {
      "cell_type": "code",
      "execution_count": 1,
      "metadata": {
        "id": "XgMnpYRAJ9cY"
      },
      "outputs": [],
      "source": [
        "from google.colab import drive\n",
        "import sys"
      ]
    },
    {
      "cell_type": "code",
      "source": [
        "drive.mount('/content/drive')\n",
        "sys.path.append('/content/drive/Shareddrives/CMPE260/')"
      ],
      "metadata": {
        "colab": {
          "base_uri": "https://localhost:8080/"
        },
        "id": "IaIV_SdLlxfG",
        "outputId": "fdef068c-e301-4a8a-c046-dee06d37f46b"
      },
      "execution_count": 2,
      "outputs": [
        {
          "output_type": "stream",
          "name": "stdout",
          "text": [
            "Mounted at /content/drive\n"
          ]
        }
      ]
    },
    {
      "cell_type": "code",
      "source": [
        "%run /content/drive/Shareddrives/CMPE260/code/rec_implementation_w_features.ipynb"
      ],
      "metadata": {
        "colab": {
          "base_uri": "https://localhost:8080/"
        },
        "id": "k4AqoOowtA1D",
        "outputId": "e03fe9c8-e815-4968-ab2d-a47783f69ba0"
      },
      "execution_count": 3,
      "outputs": [
        {
          "output_type": "stream",
          "name": "stdout",
          "text": [
            "Collecting pytorch_ranger\n",
            "  Downloading pytorch_ranger-0.1.1-py3-none-any.whl (14 kB)\n",
            "Requirement already satisfied: torch in /usr/local/lib/python3.10/dist-packages (from pytorch_ranger) (2.1.0+cu118)\n",
            "Requirement already satisfied: filelock in /usr/local/lib/python3.10/dist-packages (from torch->pytorch_ranger) (3.13.1)\n",
            "Requirement already satisfied: typing-extensions in /usr/local/lib/python3.10/dist-packages (from torch->pytorch_ranger) (4.5.0)\n",
            "Requirement already satisfied: sympy in /usr/local/lib/python3.10/dist-packages (from torch->pytorch_ranger) (1.12)\n",
            "Requirement already satisfied: networkx in /usr/local/lib/python3.10/dist-packages (from torch->pytorch_ranger) (3.2.1)\n",
            "Requirement already satisfied: jinja2 in /usr/local/lib/python3.10/dist-packages (from torch->pytorch_ranger) (3.1.2)\n",
            "Requirement already satisfied: fsspec in /usr/local/lib/python3.10/dist-packages (from torch->pytorch_ranger) (2023.6.0)\n",
            "Requirement already satisfied: triton==2.1.0 in /usr/local/lib/python3.10/dist-packages (from torch->pytorch_ranger) (2.1.0)\n",
            "Requirement already satisfied: MarkupSafe>=2.0 in /usr/local/lib/python3.10/dist-packages (from jinja2->torch->pytorch_ranger) (2.1.3)\n",
            "Requirement already satisfied: mpmath>=0.19 in /usr/local/lib/python3.10/dist-packages (from sympy->torch->pytorch_ranger) (1.3.0)\n",
            "Installing collected packages: pytorch_ranger\n",
            "Successfully installed pytorch_ranger-0.1.1\n",
            "cpu\n"
          ]
        }
      ]
    },
    {
      "cell_type": "markdown",
      "source": [
        "#### Training"
      ],
      "metadata": {
        "id": "isg7jUVApzmv"
      }
    },
    {
      "cell_type": "code",
      "source": [
        "train_env = Environment_w_Features(train_matrix)\n",
        "\n",
        "hits, dcgs = [], []\n",
        "hits_all, dcgs_all = [], []\n",
        "step, best_step = 0, 0\n",
        "step, best_step, best_step_all = 0, 0, 0\n",
        "\n",
        "users = np.random.permutation(apt_users)"
      ],
      "metadata": {
        "id": "p6SK7LpuCX4S"
      },
      "execution_count": 4,
      "outputs": []
    },
    {
      "cell_type": "code",
      "source": [
        "for u in tqdm.tqdm(users):\n",
        "    print('user =', u)\n",
        "    user, country, age, memory = train_env.reset(u)\n",
        "\n",
        "    for t in range(int(train_matrix[u].sum())):\n",
        "      try:\n",
        "        # given current state, get action using actor network\n",
        "        action_emb = policy_network(state_representation(country, age, memory))\n",
        "        action = policy_network.get_action(user, torch.tensor(train_env.memory[user.detach().cpu().numpy().astype(int), :]), state_representation, action_emb,\n",
        "            torch.tensor([item for item in train_env.available_books if item not in train_env.viewed_books]).long()\n",
        "        )\n",
        "      except Exception as e:\n",
        "        print(e)\n",
        "\n",
        "      # update replay buffer\n",
        "      user, memory, reward, done = train_env.step(action, action_emb, replay_buffer)\n",
        "\n",
        "      # update weights of action and critic network\n",
        "      if len(replay_buffer) > params['batch_size']:\n",
        "          update(params['batch_size'], params['gamma'], params['min_value'], params['max_value'], params['soft_tau'])\n",
        "\n",
        "      # monitor training process by evaluating on only one user for efficiency\n",
        "      if step % 100 == 0 and step > 0:\n",
        "          hit, dcg = evaluation(policy_network, state_representation, train_env.memory, test_loader)\n",
        "\n",
        "          hits.append(hit)\n",
        "          dcgs.append(dcg)\n",
        "\n",
        "          if np.mean(np.array([hit, dcg]) - np.array([hits[best_step], dcgs[best_step]])) >= 0:\n",
        "              best_step = step // 100\n",
        "              torch.save(policy_network.state_dict(), params['log_w_features_dir'] + 'policy_net.pth')\n",
        "              torch.save(value_network.state_dict(), params['log_w_features_dir'] + 'value_net.pth')\n",
        "              torch.save(state_representation.state_dict(), params['log_w_features_dir'] + 'state_repr.pth')\n",
        "\n",
        "      # evaluate for best policy after every 1000 steps on the whole test set\n",
        "      if step % 1000 == 0 and step > 0:\n",
        "          hit, dcg = evaluation(policy_network, state_representation, train_env.memory, full_loader)\n",
        "\n",
        "          hits_all.append(hit)\n",
        "          dcgs_all.append(dcg)\n",
        "\n",
        "          if np.mean(np.array([hit, dcg]) - np.array([hits_all[best_step_all], dcgs_all[best_step_all]])) >= 0:\n",
        "              best_step_all = step // 1000\n",
        "              torch.save(policy_network.state_dict(), params['log_w_features_dir'] + 'best_policy_net.pth')\n",
        "              torch.save(value_network.state_dict(), params['log_w_features_dir'] + 'best_value_net.pth')\n",
        "              torch.save(state_representation.state_dict(), params['log_w_features_dir'] + 'best_state_repr.pth')\n",
        "\n",
        "      step += 1"
      ],
      "metadata": {
        "colab": {
          "base_uri": "https://localhost:8080/"
        },
        "id": "hOx2wUN2xiwm",
        "outputId": "eff514f0-40be-4d45-c340-cb13b8df86ae"
      },
      "execution_count": 5,
      "outputs": [
        {
          "output_type": "stream",
          "name": "stderr",
          "text": [
            "\r  0%|          | 0/52 [00:00<?, ?it/s]"
          ]
        },
        {
          "output_type": "stream",
          "name": "stdout",
          "text": [
            "user = 38\n"
          ]
        },
        {
          "output_type": "stream",
          "name": "stderr",
          "text": [
            "\r  2%|▏         | 1/52 [00:12<11:00, 12.95s/it]"
          ]
        },
        {
          "output_type": "stream",
          "name": "stdout",
          "text": [
            "user = 83\n"
          ]
        },
        {
          "output_type": "stream",
          "name": "stderr",
          "text": [
            "\r  4%|▍         | 2/52 [00:26<11:02, 13.26s/it]"
          ]
        },
        {
          "output_type": "stream",
          "name": "stdout",
          "text": [
            "user = 36\n"
          ]
        },
        {
          "output_type": "stream",
          "name": "stderr",
          "text": [
            "\r  6%|▌         | 3/52 [00:37<10:09, 12.44s/it]"
          ]
        },
        {
          "output_type": "stream",
          "name": "stdout",
          "text": [
            "user = 239\n"
          ]
        },
        {
          "output_type": "stream",
          "name": "stderr",
          "text": [
            "\r  8%|▊         | 4/52 [00:49<09:36, 12.02s/it]"
          ]
        },
        {
          "output_type": "stream",
          "name": "stdout",
          "text": [
            "user = 172\n"
          ]
        },
        {
          "output_type": "stream",
          "name": "stderr",
          "text": [
            "\r 10%|▉         | 5/52 [00:56<08:11, 10.46s/it]"
          ]
        },
        {
          "output_type": "stream",
          "name": "stdout",
          "text": [
            "user = 242\n"
          ]
        },
        {
          "output_type": "stream",
          "name": "stderr",
          "text": [
            "\r 12%|█▏        | 6/52 [01:10<08:51, 11.56s/it]"
          ]
        },
        {
          "output_type": "stream",
          "name": "stdout",
          "text": [
            "user = 132\n"
          ]
        },
        {
          "output_type": "stream",
          "name": "stderr",
          "text": [
            "\r 13%|█▎        | 7/52 [05:49<1:14:16, 99.02s/it]"
          ]
        },
        {
          "output_type": "stream",
          "name": "stdout",
          "text": [
            "user = 143\n"
          ]
        },
        {
          "output_type": "stream",
          "name": "stderr",
          "text": [
            "\r 15%|█▌        | 8/52 [05:58<51:29, 70.22s/it]  "
          ]
        },
        {
          "output_type": "stream",
          "name": "stdout",
          "text": [
            "user = 52\n"
          ]
        },
        {
          "output_type": "stream",
          "name": "stderr",
          "text": [
            "\r 17%|█▋        | 9/52 [06:08<36:55, 51.53s/it]"
          ]
        },
        {
          "output_type": "stream",
          "name": "stdout",
          "text": [
            "user = 5\n"
          ]
        },
        {
          "output_type": "stream",
          "name": "stderr",
          "text": [
            "\r 19%|█▉        | 10/52 [06:16<26:36, 38.00s/it]"
          ]
        },
        {
          "output_type": "stream",
          "name": "stdout",
          "text": [
            "user = 14\n"
          ]
        },
        {
          "output_type": "stream",
          "name": "stderr",
          "text": [
            "\r 21%|██        | 11/52 [06:25<19:52, 29.08s/it]"
          ]
        },
        {
          "output_type": "stream",
          "name": "stdout",
          "text": [
            "user = 226\n"
          ]
        },
        {
          "output_type": "stream",
          "name": "stderr",
          "text": [
            "\r 23%|██▎       | 12/52 [06:38<16:05, 24.15s/it]"
          ]
        },
        {
          "output_type": "stream",
          "name": "stdout",
          "text": [
            "user = 179\n"
          ]
        },
        {
          "output_type": "stream",
          "name": "stderr",
          "text": [
            "\r 25%|██▌       | 13/52 [11:12<1:05:03, 100.08s/it]"
          ]
        },
        {
          "output_type": "stream",
          "name": "stdout",
          "text": [
            "user = 27\n"
          ]
        },
        {
          "output_type": "stream",
          "name": "stderr",
          "text": [
            "\r 27%|██▋       | 14/52 [11:21<45:56, 72.55s/it]   "
          ]
        },
        {
          "output_type": "stream",
          "name": "stdout",
          "text": [
            "user = 78\n"
          ]
        },
        {
          "output_type": "stream",
          "name": "stderr",
          "text": [
            "\r 29%|██▉       | 15/52 [11:33<33:28, 54.28s/it]"
          ]
        },
        {
          "output_type": "stream",
          "name": "stdout",
          "text": [
            "user = 11\n"
          ]
        },
        {
          "output_type": "stream",
          "name": "stderr",
          "text": [
            "\r 31%|███       | 16/52 [11:42<24:17, 40.49s/it]"
          ]
        },
        {
          "output_type": "stream",
          "name": "stdout",
          "text": [
            "user = 1\n"
          ]
        },
        {
          "output_type": "stream",
          "name": "stderr",
          "text": [
            "\r 33%|███▎      | 17/52 [11:54<18:44, 32.12s/it]"
          ]
        },
        {
          "output_type": "stream",
          "name": "stdout",
          "text": [
            "user = 196\n"
          ]
        },
        {
          "output_type": "stream",
          "name": "stderr",
          "text": [
            "\r 35%|███▍      | 18/52 [12:03<14:14, 25.14s/it]"
          ]
        },
        {
          "output_type": "stream",
          "name": "stdout",
          "text": [
            "user = 21\n"
          ]
        },
        {
          "output_type": "stream",
          "name": "stderr",
          "text": [
            "\r 37%|███▋      | 19/52 [12:12<11:10, 20.33s/it]"
          ]
        },
        {
          "output_type": "stream",
          "name": "stdout",
          "text": [
            "user = 67\n"
          ]
        },
        {
          "output_type": "stream",
          "name": "stderr",
          "text": [
            "\r 38%|███▊      | 20/52 [16:52<52:24, 98.26s/it]"
          ]
        },
        {
          "output_type": "stream",
          "name": "stdout",
          "text": [
            "user = 70\n"
          ]
        },
        {
          "output_type": "stream",
          "name": "stderr",
          "text": [
            "\r 40%|████      | 21/52 [16:59<36:31, 70.71s/it]"
          ]
        },
        {
          "output_type": "stream",
          "name": "stdout",
          "text": [
            "user = 238\n"
          ]
        },
        {
          "output_type": "stream",
          "name": "stderr",
          "text": [
            "\r 42%|████▏     | 22/52 [17:08<26:07, 52.25s/it]"
          ]
        },
        {
          "output_type": "stream",
          "name": "stdout",
          "text": [
            "user = 134\n"
          ]
        },
        {
          "output_type": "stream",
          "name": "stderr",
          "text": [
            "\r 44%|████▍     | 23/52 [17:19<19:13, 39.77s/it]"
          ]
        },
        {
          "output_type": "stream",
          "name": "stdout",
          "text": [
            "user = 144\n"
          ]
        },
        {
          "output_type": "stream",
          "name": "stderr",
          "text": [
            "\r 46%|████▌     | 24/52 [17:29<14:27, 30.98s/it]"
          ]
        },
        {
          "output_type": "stream",
          "name": "stdout",
          "text": [
            "user = 141\n"
          ]
        },
        {
          "output_type": "stream",
          "name": "stderr",
          "text": [
            "\r 48%|████▊     | 25/52 [17:36<10:39, 23.69s/it]"
          ]
        },
        {
          "output_type": "stream",
          "name": "stdout",
          "text": [
            "user = 211\n"
          ]
        },
        {
          "output_type": "stream",
          "name": "stderr",
          "text": [
            "\r 50%|█████     | 26/52 [22:18<43:49, 101.12s/it]"
          ]
        },
        {
          "output_type": "stream",
          "name": "stdout",
          "text": [
            "user = 137\n"
          ]
        },
        {
          "output_type": "stream",
          "name": "stderr",
          "text": [
            "\r 52%|█████▏    | 27/52 [22:30<31:05, 74.62s/it] "
          ]
        },
        {
          "output_type": "stream",
          "name": "stdout",
          "text": [
            "user = 213\n"
          ]
        },
        {
          "output_type": "stream",
          "name": "stderr",
          "text": [
            "\r 54%|█████▍    | 28/52 [22:42<22:15, 55.66s/it]"
          ]
        },
        {
          "output_type": "stream",
          "name": "stdout",
          "text": [
            "user = 199\n"
          ]
        },
        {
          "output_type": "stream",
          "name": "stderr",
          "text": [
            "\r 56%|█████▌    | 29/52 [22:49<15:44, 41.08s/it]"
          ]
        },
        {
          "output_type": "stream",
          "name": "stdout",
          "text": [
            "user = 22\n"
          ]
        },
        {
          "output_type": "stream",
          "name": "stderr",
          "text": [
            "\r 58%|█████▊    | 30/52 [22:59<11:41, 31.89s/it]"
          ]
        },
        {
          "output_type": "stream",
          "name": "stdout",
          "text": [
            "user = 105\n"
          ]
        },
        {
          "output_type": "stream",
          "name": "stderr",
          "text": [
            "\r 60%|█████▉    | 31/52 [23:09<08:46, 25.08s/it]"
          ]
        },
        {
          "output_type": "stream",
          "name": "stdout",
          "text": [
            "user = 212\n"
          ]
        },
        {
          "output_type": "stream",
          "name": "stderr",
          "text": [
            "\r 62%|██████▏   | 32/52 [23:20<07:02, 21.13s/it]"
          ]
        },
        {
          "output_type": "stream",
          "name": "stdout",
          "text": [
            "user = 205\n"
          ]
        },
        {
          "output_type": "stream",
          "name": "stderr",
          "text": [
            "\r 63%|██████▎   | 33/52 [28:02<31:25, 99.25s/it]"
          ]
        },
        {
          "output_type": "stream",
          "name": "stdout",
          "text": [
            "user = 82\n"
          ]
        },
        {
          "output_type": "stream",
          "name": "stderr",
          "text": [
            "\r 65%|██████▌   | 34/52 [28:14<21:54, 73.02s/it]"
          ]
        },
        {
          "output_type": "stream",
          "name": "stdout",
          "text": [
            "user = 203\n"
          ]
        },
        {
          "output_type": "stream",
          "name": "stderr",
          "text": [
            "\r 67%|██████▋   | 35/52 [28:23<15:13, 53.72s/it]"
          ]
        },
        {
          "output_type": "stream",
          "name": "stdout",
          "text": [
            "user = 93\n"
          ]
        },
        {
          "output_type": "stream",
          "name": "stderr",
          "text": [
            "\r 69%|██████▉   | 36/52 [28:36<11:06, 41.66s/it]"
          ]
        },
        {
          "output_type": "stream",
          "name": "stdout",
          "text": [
            "user = 222\n"
          ]
        },
        {
          "output_type": "stream",
          "name": "stderr",
          "text": [
            "\r 71%|███████   | 37/52 [28:44<07:55, 31.67s/it]"
          ]
        },
        {
          "output_type": "stream",
          "name": "stdout",
          "text": [
            "user = 243\n"
          ]
        },
        {
          "output_type": "stream",
          "name": "stderr",
          "text": [
            "\r 73%|███████▎  | 38/52 [28:54<05:51, 25.09s/it]"
          ]
        },
        {
          "output_type": "stream",
          "name": "stdout",
          "text": [
            "user = 124\n"
          ]
        },
        {
          "output_type": "stream",
          "name": "stderr",
          "text": [
            "\r 75%|███████▌  | 39/52 [33:41<22:26, 103.61s/it]"
          ]
        },
        {
          "output_type": "stream",
          "name": "stdout",
          "text": [
            "user = 198\n"
          ]
        },
        {
          "output_type": "stream",
          "name": "stderr",
          "text": [
            "\r 77%|███████▋  | 40/52 [33:51<15:07, 75.67s/it] "
          ]
        },
        {
          "output_type": "stream",
          "name": "stdout",
          "text": [
            "user = 32\n"
          ]
        },
        {
          "output_type": "stream",
          "name": "stderr",
          "text": [
            "\r 79%|███████▉  | 41/52 [33:59<10:07, 55.23s/it]"
          ]
        },
        {
          "output_type": "stream",
          "name": "stdout",
          "text": [
            "user = 54\n"
          ]
        },
        {
          "output_type": "stream",
          "name": "stderr",
          "text": [
            "\r 81%|████████  | 42/52 [34:08<06:54, 41.49s/it]"
          ]
        },
        {
          "output_type": "stream",
          "name": "stdout",
          "text": [
            "user = 99\n"
          ]
        },
        {
          "output_type": "stream",
          "name": "stderr",
          "text": [
            "\r 83%|████████▎ | 43/52 [34:17<04:45, 31.73s/it]"
          ]
        },
        {
          "output_type": "stream",
          "name": "stdout",
          "text": [
            "user = 12\n"
          ]
        },
        {
          "output_type": "stream",
          "name": "stderr",
          "text": [
            "\r 85%|████████▍ | 44/52 [34:26<03:18, 24.86s/it]"
          ]
        },
        {
          "output_type": "stream",
          "name": "stdout",
          "text": [
            "user = 63\n"
          ]
        },
        {
          "output_type": "stream",
          "name": "stderr",
          "text": [
            "\r 87%|████████▋ | 45/52 [34:34<02:18, 19.75s/it]"
          ]
        },
        {
          "output_type": "stream",
          "name": "stdout",
          "text": [
            "user = 184\n"
          ]
        },
        {
          "output_type": "stream",
          "name": "stderr",
          "text": [
            "\r 88%|████████▊ | 46/52 [39:26<10:08, 101.48s/it]"
          ]
        },
        {
          "output_type": "stream",
          "name": "stdout",
          "text": [
            "user = 162\n"
          ]
        },
        {
          "output_type": "stream",
          "name": "stderr",
          "text": [
            "\r 90%|█████████ | 47/52 [39:37<06:11, 74.39s/it] "
          ]
        },
        {
          "output_type": "stream",
          "name": "stdout",
          "text": [
            "user = 125\n"
          ]
        },
        {
          "output_type": "stream",
          "name": "stderr",
          "text": [
            "\r 92%|█████████▏| 48/52 [39:45<03:37, 54.49s/it]"
          ]
        },
        {
          "output_type": "stream",
          "name": "stdout",
          "text": [
            "user = 136\n"
          ]
        },
        {
          "output_type": "stream",
          "name": "stderr",
          "text": [
            "\r 94%|█████████▍| 49/52 [39:56<02:04, 41.39s/it]"
          ]
        },
        {
          "output_type": "stream",
          "name": "stdout",
          "text": [
            "user = 43\n"
          ]
        },
        {
          "output_type": "stream",
          "name": "stderr",
          "text": [
            "\r 96%|█████████▌| 50/52 [40:08<01:05, 32.57s/it]"
          ]
        },
        {
          "output_type": "stream",
          "name": "stdout",
          "text": [
            "user = 75\n"
          ]
        },
        {
          "output_type": "stream",
          "name": "stderr",
          "text": [
            "\r 98%|█████████▊| 51/52 [40:15<00:24, 24.91s/it]"
          ]
        },
        {
          "output_type": "stream",
          "name": "stdout",
          "text": [
            "user = 25\n"
          ]
        },
        {
          "output_type": "stream",
          "name": "stderr",
          "text": [
            "100%|██████████| 52/52 [44:42<00:00, 51.59s/it]\n"
          ]
        }
      ]
    },
    {
      "cell_type": "code",
      "source": [
        "# save memory\n",
        "with open(params['log_w_features_dir'] + 'memory.pickle', 'wb') as f:\n",
        "  pickle.dump(train_env.memory, f)"
      ],
      "metadata": {
        "id": "f4k4US6KICbE"
      },
      "execution_count": null,
      "outputs": []
    },
    {
      "cell_type": "code",
      "source": [
        "plot_hit(hits, 100, 'test_user')\n",
        "plot_dcg(dcgs, 100, 'test_user')"
      ],
      "metadata": {
        "colab": {
          "base_uri": "https://localhost:8080/",
          "height": 611
        },
        "id": "C5hqhpCzysAD",
        "outputId": "ffe3e467-9664-44c1-8e84-95e0c1515795"
      },
      "execution_count": 6,
      "outputs": [
        {
          "output_type": "display_data",
          "data": {
            "text/plain": [
              "<Figure size 600x300 with 1 Axes>"
            ],
            "image/png": "[encoded data removed]"
          },
          "metadata": {}
        },
        {
          "output_type": "display_data",
          "data": {
            "text/plain": [
              "<Figure size 600x300 with 1 Axes>"
            ],
            "image/png": "[encoded data removed]"
          },
          "metadata": {}
        }
      ]
    },
    {
      "cell_type": "code",
      "source": [
        "plot_hit(hits_all, 1000, 'test_set')\n",
        "plot_dcg(dcgs_all, 1000, 'test_set')"
      ],
      "metadata": {
        "colab": {
          "base_uri": "https://localhost:8080/",
          "height": 611
        },
        "id": "VEfWHWHdyxdS",
        "outputId": "3f18a604-8598-4112-8b18-1e62970050e2"
      },
      "execution_count": 7,
      "outputs": [
        {
          "output_type": "display_data",
          "data": {
            "text/plain": [
              "<Figure size 600x300 with 1 Axes>"
            ],
            "image/png": "[encoded data removed]"
          },
          "metadata": {}
        },
        {
          "output_type": "display_data",
          "data": {
            "text/plain": [
              "<Figure size 600x300 with 1 Axes>"
            ],
            "image/png": "[encoded data removed]"
          },
          "metadata": {}
        }
      ]
    },
    {
      "cell_type": "markdown",
      "source": [
        "#### Evaluation on test set"
      ],
      "metadata": {
        "id": "ajLqkadBEEuB"
      }
    },
    {
      "cell_type": "code",
      "source": [
        "with open(params['log_w_features_dir'] + 'memory.pickle', 'rb') as f:\n",
        "    memory = pickle.load(f)"
      ],
      "metadata": {
        "id": "FMIECy-rMnA9"
      },
      "execution_count": null,
      "outputs": []
    },
    {
      "cell_type": "code",
      "source": [
        "# evaluate best policy on test set\n",
        "state_rep = State_Representation_w_Features(num_of_countries, num_of_age_buckets, num_of_books, params['embedding_dim'], params['hidden_dim'])\n",
        "policy = Actor(params['embedding_dim'], params['hidden_dim'])\n",
        "state_rep.load_state_dict(torch.load(params['log_w_features_dir'] + 'best_state_repr.pth'))\n",
        "policy.load_state_dict(torch.load(params['log_w_features_dir'] + 'best_policy_net.pth'))"
      ],
      "metadata": {
        "id": "DprcnQne2FgJ",
        "colab": {
          "base_uri": "https://localhost:8080/"
        },
        "outputId": "ef3f058e-3b21-4de3-f66e-4d343527adbe"
      },
      "execution_count": null,
      "outputs": [
        {
          "output_type": "execute_result",
          "data": {
            "text/plain": [
              "<All keys matched successfully>"
            ]
          },
          "metadata": {},
          "execution_count": 13
        }
      ]
    },
    {
      "cell_type": "code",
      "source": [
        "hit, dcg = evaluation(policy, state_rep, memory, full_loader)\n",
        "print('hit rate: ', hit, 'dcg: ', dcg)"
      ],
      "metadata": {
        "id": "lUIhC7x_rsb2",
        "colab": {
          "base_uri": "https://localhost:8080/"
        },
        "outputId": "a19b1aad-0e82-435b-e093-6c8f14ba7550"
      },
      "execution_count": null,
      "outputs": [
        {
          "output_type": "stream",
          "name": "stdout",
          "text": [
            "hit rate:  0.9656041372825576 dcg:  0.47740640385509453\n"
          ]
        }
      ]
    },
    {
      "cell_type": "markdown",
      "source": [
        "#### Inference"
      ],
      "metadata": {
        "id": "Z9nMIqNpEDGt"
      }
    },
    {
      "cell_type": "code",
      "source": [
        "random_user = test_data['user'].sample().iloc[0]\n",
        "random_user"
      ],
      "metadata": {
        "id": "B_JMWfwfoTts",
        "colab": {
          "base_uri": "https://localhost:8080/"
        },
        "outputId": "1f3d0b7f-2a56-4559-be4a-3413f621dd59"
      },
      "execution_count": null,
      "outputs": [
        {
          "output_type": "execute_result",
          "data": {
            "text/plain": [
              "221"
            ]
          },
          "metadata": {},
          "execution_count": 15
        }
      ]
    },
    {
      "cell_type": "code",
      "source": [
        "temp_test_data = test_data[test_data.user == random_user]\n",
        "temp = pd.merge(temp_test_data, filtered_df, on=['user', 'book'])\n",
        "temp"
      ],
      "metadata": {
        "colab": {
          "base_uri": "https://localhost:8080/",
          "height": 1000
        },
        "id": "Yp0VBTumc3gl",
        "outputId": "fb753da9-664f-4b59-f824-472ab3f3032b"
      },
      "execution_count": null,
      "outputs": [
        {
          "output_type": "execute_result",
          "data": {
            "text/plain": [
              "    user   book        isbn  \\\n",
              "0    221    691   373218192   \n",
              "1    221   1319   425192695   \n",
              "2    221   1417   671864173   \n",
              "3    221   1437  1551665638   \n",
              "4    221   2590   373218036   \n",
              "5    221   2891   373218958   \n",
              "6    221   2959   373197187   \n",
              "7    221   3092   373218419   \n",
              "8    221   3257   373834349   \n",
              "9    221   4222   446610550   \n",
              "10   221   4792   515136530   \n",
              "11   221   5951   375757430   \n",
              "12   221   6135   743446259   \n",
              "13   221   7649   373218443   \n",
              "14   221   7752   515102636   \n",
              "15   221   8455   345450736   \n",
              "16   221   9104   373245491   \n",
              "17   221   9110  1551669293   \n",
              "18   221   9433   373196318   \n",
              "19   221   9442   425180654   \n",
              "20   221   9872  1551668769   \n",
              "21   221  11314   385335466   \n",
              "22   221  11689   373834977   \n",
              "23   221  12183   373765525   \n",
              "24   221  12657   373285000   \n",
              "25   221  13506   425189872   \n",
              "26   221  14695   425157172   \n",
              "27   221  14760   373285019   \n",
              "28   221  15129   451410874   \n",
              "29   221  15227   778320510   \n",
              "30   221  16894  1551669552   \n",
              "31   221  18536   312281919   \n",
              "32   221  19773   385501617   \n",
              "33   221  21064   804120072   \n",
              "34   221  22394   375505695   \n",
              "35   221  22860   670032166   \n",
              "36   221  25716  1583142533   \n",
              "37   221  27661   373765738   \n",
              "38   221  29768   595185908   \n",
              "39   221  29775   727857800   \n",
              "40   221  29787   786226013   \n",
              "41   221  29801  1551669757   \n",
              "42   221  29803  1575669226   \n",
              "43   221  29804  1582970491   \n",
              "44   221  29807  1583141723   \n",
              "\n",
              "                                                title             author  \\\n",
              "0                                  Engaging The Enemy       Nora Roberts   \n",
              "1                                 Girls of the Summer    Barbara Bretton   \n",
              "2                                   WAITING TO EXHALE     Terry McMillan   \n",
              "3                              Call It Destiny (Mira)   Jayne Ann Krentz   \n",
              "4                              Truly, Madly Manhattan       Nora Roberts   \n",
              "5        Less Of A Stranger (Silhouette Single Title)       Nora Roberts   \n",
              "6              Cattleman's Pride (Silhouette Romance)       Diana Palmer   \n",
              "7                                       Blithe Images       Nora Roberts   \n",
              "8              Mail-Order Marriages (Harlequin Promo)    Debbie Macomber   \n",
              "9                                         The Playboy     Carly Phillips   \n",
              "10      Key of Valor (Roberts, Nora. Key Trilogy, 3.)       Nora Roberts   \n",
              "11                            Shades of Jade: A Novel    Gloria Mallette   \n",
              "12                        Whispers and Lies : A Novel       Joy Fielding   \n",
              "13                     Navy Wife (Silhouette Romance)    Debbie Macomber   \n",
              "14                                      Morning Glory    LaVyrle Spencer   \n",
              "15                  Between Sisters (Hannah, Kristin)     KRISTIN HANNAH   \n",
              "16                 Patrick's Destiny  (The Devaney's)      Sherryl Woods   \n",
              "17                                  204 Rosewood Lane    Debbie Macomber   \n",
              "18                   Lionhearted  (Long, Tall Texans)       Diana Palmer   \n",
              "19                                    The Other Woman       Patricia Kay   \n",
              "20                              With A Southern Touch       Diana Palmer   \n",
              "21                               Sunset in St. Tropez     Danielle Steel   \n",
              "22                                 Sealed With A Kiss    Debbie Macomber   \n",
              "23              Thorn's Challenge (Silhouette Desire)     Brenda Jackson   \n",
              "24               Captivated (Silhouette Single Title)       Nora Roberts   \n",
              "25                                       Shore Lights    Barbara Bretton   \n",
              "26                                     Sleeping Alone    Barbara Bretton   \n",
              "27                                          Entranced       Nora Roberts   \n",
              "28                                        Bed of Lies        Teresa Hill   \n",
              "29                                 Without You (Mira)   Mary Lynn Baxter   \n",
              "30                                 Along Came Trouble      Sherryl Woods   \n",
              "31                         An Ordinary Woman: A Novel         Donna Hill   \n",
              "32                                       P. G. County     CONNIE BRISCOE   \n",
              "33                     Heat Wave (Landis, Jill Marie)  JILL MARIE LANDIS   \n",
              "34                 Married but Still Looking: A Novel      Travis Hunter   \n",
              "35             Wish Come True: A Carson Springs Novel      Eileen Goudge   \n",
              "36                         Tis the Season (Arabesque)          Hill Hill   \n",
              "37     Scandal Between The Sheets (Silhouette Desire)     Brenda Jackson   \n",
              "38                                    Toughest Battle       Regina Pride   \n",
              "39           Weekend Warriors (The Sisterhood, Vol 1)      Fern Michaels   \n",
              "40  Fallen Angel (Thorndike Large Print Americana ...    Debbie MacOmber   \n",
              "41                                            Montana    Debbie Macomber   \n",
              "42                                        Perfect Fit     Brenda Jackson   \n",
              "43                        2002 Writer's Market Online       Kirsten Holm   \n",
              "44                 Something to Celebrate (Arabesque)      Felicia Mason   \n",
              "\n",
              "    user_id  rating  best_seller  \n",
              "0    216012     7.0         True  \n",
              "1    216012     7.0        False  \n",
              "2    216012     9.0         True  \n",
              "3    216012     7.0         True  \n",
              "4    216012     8.0        False  \n",
              "5    216012     8.0        False  \n",
              "6    216012     8.0         True  \n",
              "7    216012     7.0        False  \n",
              "8    216012     8.0        False  \n",
              "9    216012     7.0        False  \n",
              "10   216012     7.0         True  \n",
              "11   216012     9.0        False  \n",
              "12   216012     7.0        False  \n",
              "13   216012     8.0        False  \n",
              "14   216012    10.0         True  \n",
              "15   216012     8.0        False  \n",
              "16   216012     8.0        False  \n",
              "17   216012     8.0         True  \n",
              "18   216012     8.0         True  \n",
              "19   216012     8.0        False  \n",
              "20   216012     7.0         True  \n",
              "21   216012     7.0         True  \n",
              "22   216012     7.0         True  \n",
              "23   216012     8.0         True  \n",
              "24   216012     7.0         True  \n",
              "25   216012     7.0         True  \n",
              "26   216012     8.0         True  \n",
              "27   216012     7.0         True  \n",
              "28   216012     8.0         True  \n",
              "29   216012     8.0        False  \n",
              "30   216012     8.0         True  \n",
              "31   216012     9.0        False  \n",
              "32   216012     8.0        False  \n",
              "33   216012     8.0         True  \n",
              "34   216012     7.0        False  \n",
              "35   216012     7.0         True  \n",
              "36   216012     8.0         True  \n",
              "37   216012     7.0         True  \n",
              "38   216012     9.0        False  \n",
              "39   216012     7.0        False  \n",
              "40   216012     7.0        False  \n",
              "41   216012     8.0        False  \n",
              "42   216012     8.0        False  \n",
              "43   216012     8.0        False  \n",
              "44   216012     8.0         True  "
            ],
            "text/html": [
              "\n",
              "  <div id=\"df-c66c8d89-82ce-43e7-9d5f-d1a67b98fc29\" class=\"colab-df-container\">\n",
              "    <div>\n",
              "<style scoped>\n",
              "    .dataframe tbody tr th:only-of-type {\n",
              "        vertical-align: middle;\n",
              "    }\n",
              "\n",
              "    .dataframe tbody tr th {\n",
              "        vertical-align: top;\n",
              "    }\n",
              "\n",
              "    .dataframe thead th {\n",
              "        text-align: right;\n",
              "    }\n",
              "</style>\n",
              "<table border=\"1\" class=\"dataframe\">\n",
              "  <thead>\n",
              "    <tr style=\"text-align: right;\">\n",
              "      <th></th>\n",
              "      <th>user</th>\n",
              "      <th>book</th>\n",
              "      <th>isbn</th>\n",
              "      <th>title</th>\n",
              "      <th>author</th>\n",
              "      <th>user_id</th>\n",
              "      <th>rating</th>\n",
              "      <th>best_seller</th>\n",
              "    </tr>\n",
              "  </thead>\n",
              "  <tbody>\n",
              "    <tr>\n",
              "      <th>0</th>\n",
              "      <td>221</td>\n",
              "      <td>691</td>\n",
              "      <td>373218192</td>\n",
              "      <td>Engaging The Enemy</td>\n",
              "      <td>Nora Roberts</td>\n",
              "      <td>216012</td>\n",
              "      <td>7.0</td>\n",
              "      <td>True</td>\n",
              "    </tr>\n",
              "    <tr>\n",
              "      <th>1</th>\n",
              "      <td>221</td>\n",
              "      <td>1319</td>\n",
              "      <td>425192695</td>\n",
              "      <td>Girls of the Summer</td>\n",
              "      <td>Barbara Bretton</td>\n",
              "      <td>216012</td>\n",
              "      <td>7.0</td>\n",
              "      <td>False</td>\n",
              "    </tr>\n",
              "    <tr>\n",
              "      <th>2</th>\n",
              "      <td>221</td>\n",
              "      <td>1417</td>\n",
              "      <td>671864173</td>\n",
              "      <td>WAITING TO EXHALE</td>\n",
              "      <td>Terry McMillan</td>\n",
              "      <td>216012</td>\n",
              "      <td>9.0</td>\n",
              "      <td>True</td>\n",
              "    </tr>\n",
              "    <tr>\n",
              "      <th>3</th>\n",
              "      <td>221</td>\n",
              "      <td>1437</td>\n",
              "      <td>1551665638</td>\n",
              "      <td>Call It Destiny (Mira)</td>\n",
              "      <td>Jayne Ann Krentz</td>\n",
              "      <td>216012</td>\n",
              "      <td>7.0</td>\n",
              "      <td>True</td>\n",
              "    </tr>\n",
              "    <tr>\n",
              "      <th>4</th>\n",
              "      <td>221</td>\n",
              "      <td>2590</td>\n",
              "      <td>373218036</td>\n",
              "      <td>Truly, Madly Manhattan</td>\n",
              "      <td>Nora Roberts</td>\n",
              "      <td>216012</td>\n",
              "      <td>8.0</td>\n",
              "      <td>False</td>\n",
              "    </tr>\n",
              "    <tr>\n",
              "      <th>5</th>\n",
              "      <td>221</td>\n",
              "      <td>2891</td>\n",
              "      <td>373218958</td>\n",
              "      <td>Less Of A Stranger (Silhouette Single Title)</td>\n",
              "      <td>Nora Roberts</td>\n",
              "      <td>216012</td>\n",
              "      <td>8.0</td>\n",
              "      <td>False</td>\n",
              "    </tr>\n",
              "    <tr>\n",
              "      <th>6</th>\n",
              "      <td>221</td>\n",
              "      <td>2959</td>\n",
              "      <td>373197187</td>\n",
              "      <td>Cattleman's Pride (Silhouette Romance)</td>\n",
              "      <td>Diana Palmer</td>\n",
              "      <td>216012</td>\n",
              "      <td>8.0</td>\n",
              "      <td>True</td>\n",
              "    </tr>\n",
              "    <tr>\n",
              "      <th>7</th>\n",
              "      <td>221</td>\n",
              "      <td>3092</td>\n",
              "      <td>373218419</td>\n",
              "      <td>Blithe Images</td>\n",
              "      <td>Nora Roberts</td>\n",
              "      <td>216012</td>\n",
              "      <td>7.0</td>\n",
              "      <td>False</td>\n",
              "    </tr>\n",
              "    <tr>\n",
              "      <th>8</th>\n",
              "      <td>221</td>\n",
              "      <td>3257</td>\n",
              "      <td>373834349</td>\n",
              "      <td>Mail-Order Marriages (Harlequin Promo)</td>\n",
              "      <td>Debbie Macomber</td>\n",
              "      <td>216012</td>\n",
              "      <td>8.0</td>\n",
              "      <td>False</td>\n",
              "    </tr>\n",
              "    <tr>\n",
              "      <th>9</th>\n",
              "      <td>221</td>\n",
              "      <td>4222</td>\n",
              "      <td>446610550</td>\n",
              "      <td>The Playboy</td>\n",
              "      <td>Carly Phillips</td>\n",
              "      <td>216012</td>\n",
              "      <td>7.0</td>\n",
              "      <td>False</td>\n",
              "    </tr>\n",
              "    <tr>\n",
              "      <th>10</th>\n",
              "      <td>221</td>\n",
              "      <td>4792</td>\n",
              "      <td>515136530</td>\n",
              "      <td>Key of Valor (Roberts, Nora. Key Trilogy, 3.)</td>\n",
              "      <td>Nora Roberts</td>\n",
              "      <td>216012</td>\n",
              "      <td>7.0</td>\n",
              "      <td>True</td>\n",
              "    </tr>\n",
              "    <tr>\n",
              "      <th>11</th>\n",
              "      <td>221</td>\n",
              "      <td>5951</td>\n",
              "      <td>375757430</td>\n",
              "      <td>Shades of Jade: A Novel</td>\n",
              "      <td>Gloria Mallette</td>\n",
              "      <td>216012</td>\n",
              "      <td>9.0</td>\n",
              "      <td>False</td>\n",
              "    </tr>\n",
              "    <tr>\n",
              "      <th>12</th>\n",
              "      <td>221</td>\n",
              "      <td>6135</td>\n",
              "      <td>743446259</td>\n",
              "      <td>Whispers and Lies : A Novel</td>\n",
              "      <td>Joy Fielding</td>\n",
              "      <td>216012</td>\n",
              "      <td>7.0</td>\n",
              "      <td>False</td>\n",
              "    </tr>\n",
              "    <tr>\n",
              "      <th>13</th>\n",
              "      <td>221</td>\n",
              "      <td>7649</td>\n",
              "      <td>373218443</td>\n",
              "      <td>Navy Wife (Silhouette Romance)</td>\n",
              "      <td>Debbie Macomber</td>\n",
              "      <td>216012</td>\n",
              "      <td>8.0</td>\n",
              "      <td>False</td>\n",
              "    </tr>\n",
              "    <tr>\n",
              "      <th>14</th>\n",
              "      <td>221</td>\n",
              "      <td>7752</td>\n",
              "      <td>515102636</td>\n",
              "      <td>Morning Glory</td>\n",
              "      <td>LaVyrle Spencer</td>\n",
              "      <td>216012</td>\n",
              "      <td>10.0</td>\n",
              "      <td>True</td>\n",
              "    </tr>\n",
              "    <tr>\n",
              "      <th>15</th>\n",
              "      <td>221</td>\n",
              "      <td>8455</td>\n",
              "      <td>345450736</td>\n",
              "      <td>Between Sisters (Hannah, Kristin)</td>\n",
              "      <td>KRISTIN HANNAH</td>\n",
              "      <td>216012</td>\n",
              "      <td>8.0</td>\n",
              "      <td>False</td>\n",
              "    </tr>\n",
              "    <tr>\n",
              "      <th>16</th>\n",
              "      <td>221</td>\n",
              "      <td>9104</td>\n",
              "      <td>373245491</td>\n",
              "      <td>Patrick's Destiny  (The Devaney's)</td>\n",
              "      <td>Sherryl Woods</td>\n",
              "      <td>216012</td>\n",
              "      <td>8.0</td>\n",
              "      <td>False</td>\n",
              "    </tr>\n",
              "    <tr>\n",
              "      <th>17</th>\n",
              "      <td>221</td>\n",
              "      <td>9110</td>\n",
              "      <td>1551669293</td>\n",
              "      <td>204 Rosewood Lane</td>\n",
              "      <td>Debbie Macomber</td>\n",
              "      <td>216012</td>\n",
              "      <td>8.0</td>\n",
              "      <td>True</td>\n",
              "    </tr>\n",
              "    <tr>\n",
              "      <th>18</th>\n",
              "      <td>221</td>\n",
              "      <td>9433</td>\n",
              "      <td>373196318</td>\n",
              "      <td>Lionhearted  (Long, Tall Texans)</td>\n",
              "      <td>Diana Palmer</td>\n",
              "      <td>216012</td>\n",
              "      <td>8.0</td>\n",
              "      <td>True</td>\n",
              "    </tr>\n",
              "    <tr>\n",
              "      <th>19</th>\n",
              "      <td>221</td>\n",
              "      <td>9442</td>\n",
              "      <td>425180654</td>\n",
              "      <td>The Other Woman</td>\n",
              "      <td>Patricia Kay</td>\n",
              "      <td>216012</td>\n",
              "      <td>8.0</td>\n",
              "      <td>False</td>\n",
              "    </tr>\n",
              "    <tr>\n",
              "      <th>20</th>\n",
              "      <td>221</td>\n",
              "      <td>9872</td>\n",
              "      <td>1551668769</td>\n",
              "      <td>With A Southern Touch</td>\n",
              "      <td>Diana Palmer</td>\n",
              "      <td>216012</td>\n",
              "      <td>7.0</td>\n",
              "      <td>True</td>\n",
              "    </tr>\n",
              "    <tr>\n",
              "      <th>21</th>\n",
              "      <td>221</td>\n",
              "      <td>11314</td>\n",
              "      <td>385335466</td>\n",
              "      <td>Sunset in St. Tropez</td>\n",
              "      <td>Danielle Steel</td>\n",
              "      <td>216012</td>\n",
              "      <td>7.0</td>\n",
              "      <td>True</td>\n",
              "    </tr>\n",
              "    <tr>\n",
              "      <th>22</th>\n",
              "      <td>221</td>\n",
              "      <td>11689</td>\n",
              "      <td>373834977</td>\n",
              "      <td>Sealed With A Kiss</td>\n",
              "      <td>Debbie Macomber</td>\n",
              "      <td>216012</td>\n",
              "      <td>7.0</td>\n",
              "      <td>True</td>\n",
              "    </tr>\n",
              "    <tr>\n",
              "      <th>23</th>\n",
              "      <td>221</td>\n",
              "      <td>12183</td>\n",
              "      <td>373765525</td>\n",
              "      <td>Thorn's Challenge (Silhouette Desire)</td>\n",
              "      <td>Brenda Jackson</td>\n",
              "      <td>216012</td>\n",
              "      <td>8.0</td>\n",
              "      <td>True</td>\n",
              "    </tr>\n",
              "    <tr>\n",
              "      <th>24</th>\n",
              "      <td>221</td>\n",
              "      <td>12657</td>\n",
              "      <td>373285000</td>\n",
              "      <td>Captivated (Silhouette Single Title)</td>\n",
              "      <td>Nora Roberts</td>\n",
              "      <td>216012</td>\n",
              "      <td>7.0</td>\n",
              "      <td>True</td>\n",
              "    </tr>\n",
              "    <tr>\n",
              "      <th>25</th>\n",
              "      <td>221</td>\n",
              "      <td>13506</td>\n",
              "      <td>425189872</td>\n",
              "      <td>Shore Lights</td>\n",
              "      <td>Barbara Bretton</td>\n",
              "      <td>216012</td>\n",
              "      <td>7.0</td>\n",
              "      <td>True</td>\n",
              "    </tr>\n",
              "    <tr>\n",
              "      <th>26</th>\n",
              "      <td>221</td>\n",
              "      <td>14695</td>\n",
              "      <td>425157172</td>\n",
              "      <td>Sleeping Alone</td>\n",
              "      <td>Barbara Bretton</td>\n",
              "      <td>216012</td>\n",
              "      <td>8.0</td>\n",
              "      <td>True</td>\n",
              "    </tr>\n",
              "    <tr>\n",
              "      <th>27</th>\n",
              "      <td>221</td>\n",
              "      <td>14760</td>\n",
              "      <td>373285019</td>\n",
              "      <td>Entranced</td>\n",
              "      <td>Nora Roberts</td>\n",
              "      <td>216012</td>\n",
              "      <td>7.0</td>\n",
              "      <td>True</td>\n",
              "    </tr>\n",
              "    <tr>\n",
              "      <th>28</th>\n",
              "      <td>221</td>\n",
              "      <td>15129</td>\n",
              "      <td>451410874</td>\n",
              "      <td>Bed of Lies</td>\n",
              "      <td>Teresa Hill</td>\n",
              "      <td>216012</td>\n",
              "      <td>8.0</td>\n",
              "      <td>True</td>\n",
              "    </tr>\n",
              "    <tr>\n",
              "      <th>29</th>\n",
              "      <td>221</td>\n",
              "      <td>15227</td>\n",
              "      <td>778320510</td>\n",
              "      <td>Without You (Mira)</td>\n",
              "      <td>Mary Lynn Baxter</td>\n",
              "      <td>216012</td>\n",
              "      <td>8.0</td>\n",
              "      <td>False</td>\n",
              "    </tr>\n",
              "    <tr>\n",
              "      <th>30</th>\n",
              "      <td>221</td>\n",
              "      <td>16894</td>\n",
              "      <td>1551669552</td>\n",
              "      <td>Along Came Trouble</td>\n",
              "      <td>Sherryl Woods</td>\n",
              "      <td>216012</td>\n",
              "      <td>8.0</td>\n",
              "      <td>True</td>\n",
              "    </tr>\n",
              "    <tr>\n",
              "      <th>31</th>\n",
              "      <td>221</td>\n",
              "      <td>18536</td>\n",
              "      <td>312281919</td>\n",
              "      <td>An Ordinary Woman: A Novel</td>\n",
              "      <td>Donna Hill</td>\n",
              "      <td>216012</td>\n",
              "      <td>9.0</td>\n",
              "      <td>False</td>\n",
              "    </tr>\n",
              "    <tr>\n",
              "      <th>32</th>\n",
              "      <td>221</td>\n",
              "      <td>19773</td>\n",
              "      <td>385501617</td>\n",
              "      <td>P. G. County</td>\n",
              "      <td>CONNIE BRISCOE</td>\n",
              "      <td>216012</td>\n",
              "      <td>8.0</td>\n",
              "      <td>False</td>\n",
              "    </tr>\n",
              "    <tr>\n",
              "      <th>33</th>\n",
              "      <td>221</td>\n",
              "      <td>21064</td>\n",
              "      <td>804120072</td>\n",
              "      <td>Heat Wave (Landis, Jill Marie)</td>\n",
              "      <td>JILL MARIE LANDIS</td>\n",
              "      <td>216012</td>\n",
              "      <td>8.0</td>\n",
              "      <td>True</td>\n",
              "    </tr>\n",
              "    <tr>\n",
              "      <th>34</th>\n",
              "      <td>221</td>\n",
              "      <td>22394</td>\n",
              "      <td>375505695</td>\n",
              "      <td>Married but Still Looking: A Novel</td>\n",
              "      <td>Travis Hunter</td>\n",
              "      <td>216012</td>\n",
              "      <td>7.0</td>\n",
              "      <td>False</td>\n",
              "    </tr>\n",
              "    <tr>\n",
              "      <th>35</th>\n",
              "      <td>221</td>\n",
              "      <td>22860</td>\n",
              "      <td>670032166</td>\n",
              "      <td>Wish Come True: A Carson Springs Novel</td>\n",
              "      <td>Eileen Goudge</td>\n",
              "      <td>216012</td>\n",
              "      <td>7.0</td>\n",
              "      <td>True</td>\n",
              "    </tr>\n",
              "    <tr>\n",
              "      <th>36</th>\n",
              "      <td>221</td>\n",
              "      <td>25716</td>\n",
              "      <td>1583142533</td>\n",
              "      <td>Tis the Season (Arabesque)</td>\n",
              "      <td>Hill Hill</td>\n",
              "      <td>216012</td>\n",
              "      <td>8.0</td>\n",
              "      <td>True</td>\n",
              "    </tr>\n",
              "    <tr>\n",
              "      <th>37</th>\n",
              "      <td>221</td>\n",
              "      <td>27661</td>\n",
              "      <td>373765738</td>\n",
              "      <td>Scandal Between The Sheets (Silhouette Desire)</td>\n",
              "      <td>Brenda Jackson</td>\n",
              "      <td>216012</td>\n",
              "      <td>7.0</td>\n",
              "      <td>True</td>\n",
              "    </tr>\n",
              "    <tr>\n",
              "      <th>38</th>\n",
              "      <td>221</td>\n",
              "      <td>29768</td>\n",
              "      <td>595185908</td>\n",
              "      <td>Toughest Battle</td>\n",
              "      <td>Regina Pride</td>\n",
              "      <td>216012</td>\n",
              "      <td>9.0</td>\n",
              "      <td>False</td>\n",
              "    </tr>\n",
              "    <tr>\n",
              "      <th>39</th>\n",
              "      <td>221</td>\n",
              "      <td>29775</td>\n",
              "      <td>727857800</td>\n",
              "      <td>Weekend Warriors (The Sisterhood, Vol 1)</td>\n",
              "      <td>Fern Michaels</td>\n",
              "      <td>216012</td>\n",
              "      <td>7.0</td>\n",
              "      <td>False</td>\n",
              "    </tr>\n",
              "    <tr>\n",
              "      <th>40</th>\n",
              "      <td>221</td>\n",
              "      <td>29787</td>\n",
              "      <td>786226013</td>\n",
              "      <td>Fallen Angel (Thorndike Large Print Americana ...</td>\n",
              "      <td>Debbie MacOmber</td>\n",
              "      <td>216012</td>\n",
              "      <td>7.0</td>\n",
              "      <td>False</td>\n",
              "    </tr>\n",
              "    <tr>\n",
              "      <th>41</th>\n",
              "      <td>221</td>\n",
              "      <td>29801</td>\n",
              "      <td>1551669757</td>\n",
              "      <td>Montana</td>\n",
              "      <td>Debbie Macomber</td>\n",
              "      <td>216012</td>\n",
              "      <td>8.0</td>\n",
              "      <td>False</td>\n",
              "    </tr>\n",
              "    <tr>\n",
              "      <th>42</th>\n",
              "      <td>221</td>\n",
              "      <td>29803</td>\n",
              "      <td>1575669226</td>\n",
              "      <td>Perfect Fit</td>\n",
              "      <td>Brenda Jackson</td>\n",
              "      <td>216012</td>\n",
              "      <td>8.0</td>\n",
              "      <td>False</td>\n",
              "    </tr>\n",
              "    <tr>\n",
              "      <th>43</th>\n",
              "      <td>221</td>\n",
              "      <td>29804</td>\n",
              "      <td>1582970491</td>\n",
              "      <td>2002 Writer's Market Online</td>\n",
              "      <td>Kirsten Holm</td>\n",
              "      <td>216012</td>\n",
              "      <td>8.0</td>\n",
              "      <td>False</td>\n",
              "    </tr>\n",
              "    <tr>\n",
              "      <th>44</th>\n",
              "      <td>221</td>\n",
              "      <td>29807</td>\n",
              "      <td>1583141723</td>\n",
              "      <td>Something to Celebrate (Arabesque)</td>\n",
              "      <td>Felicia Mason</td>\n",
              "      <td>216012</td>\n",
              "      <td>8.0</td>\n",
              "      <td>True</td>\n",
              "    </tr>\n",
              "  </tbody>\n",
              "</table>\n",
              "</div>\n",
              "    <div class=\"colab-df-buttons\">\n",
              "\n",
              "  <div class=\"colab-df-container\">\n",
              "    <button class=\"colab-df-convert\" onclick=\"convertToInteractive('df-c66c8d89-82ce-43e7-9d5f-d1a67b98fc29')\"\n",
              "            title=\"Convert this dataframe to an interactive table.\"\n",
              "            style=\"display:none;\">\n",
              "\n",
              "  <svg xmlns=\"http://www.w3.org/2000/svg\" height=\"24px\" viewBox=\"0 -960 960 960\">\n",
              "    <path d=\"M120-120v-720h720v720H120Zm60-500h600v-160H180v160Zm220 220h160v-160H400v160Zm0 220h160v-160H400v160ZM180-400h160v-160H180v160Zm440 0h160v-160H620v160ZM180-180h160v-160H180v160Zm440 0h160v-160H620v160Z\"/>\n",
              "  </svg>\n",
              "    </button>\n",
              "\n",
              "  <style>\n",
              "    .colab-df-container {\n",
              "      display:flex;\n",
              "      gap: 12px;\n",
              "    }\n",
              "\n",
              "    .colab-df-convert {\n",
              "      background-color: #E8F0FE;\n",
              "      border: none;\n",
              "      border-radius: 50%;\n",
              "      cursor: pointer;\n",
              "      display: none;\n",
              "      fill: #1967D2;\n",
              "      height: 32px;\n",
              "      padding: 0 0 0 0;\n",
              "      width: 32px;\n",
              "    }\n",
              "\n",
              "    .colab-df-convert:hover {\n",
              "      background-color: #E2EBFA;\n",
              "      box-shadow: 0px 1px 2px rgba(60, 64, 67, 0.3), 0px 1px 3px 1px rgba(60, 64, 67, 0.15);\n",
              "      fill: #174EA6;\n",
              "    }\n",
              "\n",
              "    .colab-df-buttons div {\n",
              "      margin-bottom: 4px;\n",
              "    }\n",
              "\n",
              "    [theme=dark] .colab-df-convert {\n",
              "      background-color: #3B4455;\n",
              "      fill: #D2E3FC;\n",
              "    }\n",
              "\n",
              "    [theme=dark] .colab-df-convert:hover {\n",
              "      background-color: #434B5C;\n",
              "      box-shadow: 0px 1px 3px 1px rgba(0, 0, 0, 0.15);\n",
              "      filter: drop-shadow(0px 1px 2px rgba(0, 0, 0, 0.3));\n",
              "      fill: #FFFFFF;\n",
              "    }\n",
              "  </style>\n",
              "\n",
              "    <script>\n",
              "      const buttonEl =\n",
              "        document.querySelector('#df-c66c8d89-82ce-43e7-9d5f-d1a67b98fc29 button.colab-df-convert');\n",
              "      buttonEl.style.display =\n",
              "        google.colab.kernel.accessAllowed ? 'block' : 'none';\n",
              "\n",
              "      async function convertToInteractive(key) {\n",
              "        const element = document.querySelector('#df-c66c8d89-82ce-43e7-9d5f-d1a67b98fc29');\n",
              "        const dataTable =\n",
              "          await google.colab.kernel.invokeFunction('convertToInteractive',\n",
              "                                                    [key], {});\n",
              "        if (!dataTable) return;\n",
              "\n",
              "        const docLinkHtml = 'Like what you see? Visit the ' +\n",
              "          '<a target=\"_blank\" href=https://colab.research.google.com/notebooks/data_table.ipynb>data table notebook</a>'\n",
              "          + ' to learn more about interactive tables.';\n",
              "        element.innerHTML = '';\n",
              "        dataTable['output_type'] = 'display_data';\n",
              "        await google.colab.output.renderOutput(dataTable, element);\n",
              "        const docLink = document.createElement('div');\n",
              "        docLink.innerHTML = docLinkHtml;\n",
              "        element.appendChild(docLink);\n",
              "      }\n",
              "    </script>\n",
              "  </div>\n",
              "\n",
              "\n",
              "<div id=\"df-0ea5eaa8-ed00-4d3c-8d64-3498ca4e9b6c\">\n",
              "  <button class=\"colab-df-quickchart\" onclick=\"quickchart('df-0ea5eaa8-ed00-4d3c-8d64-3498ca4e9b6c')\"\n",
              "            title=\"Suggest charts\"\n",
              "            style=\"display:none;\">\n",
              "\n",
              "<svg xmlns=\"http://www.w3.org/2000/svg\" height=\"24px\"viewBox=\"0 0 24 24\"\n",
              "     width=\"24px\">\n",
              "    <g>\n",
              "        <path d=\"M19 3H5c-1.1 0-2 .9-2 2v14c0 1.1.9 2 2 2h14c1.1 0 2-.9 2-2V5c0-1.1-.9-2-2-2zM9 17H7v-7h2v7zm4 0h-2V7h2v10zm4 0h-2v-4h2v4z\"/>\n",
              "    </g>\n",
              "</svg>\n",
              "  </button>\n",
              "\n",
              "<style>\n",
              "  .colab-df-quickchart {\n",
              "      --bg-color: #E8F0FE;\n",
              "      --fill-color: #1967D2;\n",
              "      --hover-bg-color: #E2EBFA;\n",
              "      --hover-fill-color: #174EA6;\n",
              "      --disabled-fill-color: #AAA;\n",
              "      --disabled-bg-color: #DDD;\n",
              "  }\n",
              "\n",
              "  [theme=dark] .colab-df-quickchart {\n",
              "      --bg-color: #3B4455;\n",
              "      --fill-color: #D2E3FC;\n",
              "      --hover-bg-color: #434B5C;\n",
              "      --hover-fill-color: #FFFFFF;\n",
              "      --disabled-bg-color: #3B4455;\n",
              "      --disabled-fill-color: #666;\n",
              "  }\n",
              "\n",
              "  .colab-df-quickchart {\n",
              "    background-color: var(--bg-color);\n",
              "    border: none;\n",
              "    border-radius: 50%;\n",
              "    cursor: pointer;\n",
              "    display: none;\n",
              "    fill: var(--fill-color);\n",
              "    height: 32px;\n",
              "    padding: 0;\n",
              "    width: 32px;\n",
              "  }\n",
              "\n",
              "  .colab-df-quickchart:hover {\n",
              "    background-color: var(--hover-bg-color);\n",
              "    box-shadow: 0 1px 2px rgba(60, 64, 67, 0.3), 0 1px 3px 1px rgba(60, 64, 67, 0.15);\n",
              "    fill: var(--button-hover-fill-color);\n",
              "  }\n",
              "\n",
              "  .colab-df-quickchart-complete:disabled,\n",
              "  .colab-df-quickchart-complete:disabled:hover {\n",
              "    background-color: var(--disabled-bg-color);\n",
              "    fill: var(--disabled-fill-color);\n",
              "    box-shadow: none;\n",
              "  }\n",
              "\n",
              "  .colab-df-spinner {\n",
              "    border: 2px solid var(--fill-color);\n",
              "    border-color: transparent;\n",
              "    border-bottom-color: var(--fill-color);\n",
              "    animation:\n",
              "      spin 1s steps(1) infinite;\n",
              "  }\n",
              "\n",
              "  @keyframes spin {\n",
              "    0% {\n",
              "      border-color: transparent;\n",
              "      border-bottom-color: var(--fill-color);\n",
              "      border-left-color: var(--fill-color);\n",
              "    }\n",
              "    20% {\n",
              "      border-color: transparent;\n",
              "      border-left-color: var(--fill-color);\n",
              "      border-top-color: var(--fill-color);\n",
              "    }\n",
              "    30% {\n",
              "      border-color: transparent;\n",
              "      border-left-color: var(--fill-color);\n",
              "      border-top-color: var(--fill-color);\n",
              "      border-right-color: var(--fill-color);\n",
              "    }\n",
              "    40% {\n",
              "      border-color: transparent;\n",
              "      border-right-color: var(--fill-color);\n",
              "      border-top-color: var(--fill-color);\n",
              "    }\n",
              "    60% {\n",
              "      border-color: transparent;\n",
              "      border-right-color: var(--fill-color);\n",
              "    }\n",
              "    80% {\n",
              "      border-color: transparent;\n",
              "      border-right-color: var(--fill-color);\n",
              "      border-bottom-color: var(--fill-color);\n",
              "    }\n",
              "    90% {\n",
              "      border-color: transparent;\n",
              "      border-bottom-color: var(--fill-color);\n",
              "    }\n",
              "  }\n",
              "</style>\n",
              "\n",
              "  <script>\n",
              "    async function quickchart(key) {\n",
              "      const quickchartButtonEl =\n",
              "        document.querySelector('#' + key + ' button');\n",
              "      quickchartButtonEl.disabled = true;  // To prevent multiple clicks.\n",
              "      quickchartButtonEl.classList.add('colab-df-spinner');\n",
              "      try {\n",
              "        const charts = await google.colab.kernel.invokeFunction(\n",
              "            'suggestCharts', [key], {});\n",
              "      } catch (error) {\n",
              "        console.error('Error during call to suggestCharts:', error);\n",
              "      }\n",
              "      quickchartButtonEl.classList.remove('colab-df-spinner');\n",
              "      quickchartButtonEl.classList.add('colab-df-quickchart-complete');\n",
              "    }\n",
              "    (() => {\n",
              "      let quickchartButtonEl =\n",
              "        document.querySelector('#df-0ea5eaa8-ed00-4d3c-8d64-3498ca4e9b6c button');\n",
              "      quickchartButtonEl.style.display =\n",
              "        google.colab.kernel.accessAllowed ? 'block' : 'none';\n",
              "    })();\n",
              "  </script>\n",
              "</div>\n",
              "    </div>\n",
              "  </div>\n"
            ]
          },
          "metadata": {},
          "execution_count": 16
        }
      ]
    },
    {
      "cell_type": "code",
      "source": [
        "recommendations = []\n",
        "\n",
        "for model, state_representation in zip([policy], [state_rep]):\n",
        "    env = Environment(test_matrix)\n",
        "    user, country, age, memory = env.reset(random_user)\n",
        "\n",
        "    # give 2 books that the user has rated in the past\n",
        "    user, memory, reward, _ = env.step(torch.tensor([3092]))\n",
        "    user, memory, reward, _ = env.step(torch.tensor([4092]))\n",
        "\n",
        "    # get next 3 recommendations based on the two books above\n",
        "    recs = []\n",
        "    for i in range(3):\n",
        "        action_emb = model(state_representation(country, age, memory))\n",
        "        action = model.get_action(\n",
        "            user,\n",
        "            torch.tensor(env.memory[user.detach().cpu().numpy().astype(int), :]),\n",
        "            state_representation,\n",
        "            action_emb,\n",
        "            torch.tensor([item for item in env.available_books if item not in env.viewed_books]).long()\n",
        "        )\n",
        "        user, memory, reward, _ = env.step(action)\n",
        "        recs.append(action)\n",
        "\n",
        "    recommendations.append(recs)"
      ],
      "metadata": {
        "id": "YvLqqwH-A40j"
      },
      "execution_count": null,
      "outputs": []
    },
    {
      "cell_type": "code",
      "source": [
        "recos = [r.item() for r in recommendations[0]]\n",
        "recos"
      ],
      "metadata": {
        "colab": {
          "base_uri": "https://localhost:8080/"
        },
        "id": "PZZbyOkohaYM",
        "outputId": "033680bb-25d8-4fa2-d688-f177e6bba4e6"
      },
      "execution_count": null,
      "outputs": [
        {
          "output_type": "execute_result",
          "data": {
            "text/plain": [
              "[15653, 2959, 29394]"
            ]
          },
          "metadata": {},
          "execution_count": 18
        }
      ]
    },
    {
      "cell_type": "code",
      "source": [
        "recommended_books = filtered_df[filtered_df.book.isin(recos)][['title', 'author', 'best_seller']].drop_duplicates()\n",
        "recommended_books"
      ],
      "metadata": {
        "colab": {
          "base_uri": "https://localhost:8080/",
          "height": 143
        },
        "id": "FKal0cjnjbYE",
        "outputId": "6930991e-e468-4848-ba17-d7134984560a"
      },
      "execution_count": null,
      "outputs": [
        {
          "output_type": "execute_result",
          "data": {
            "text/plain": [
              "                                                    title             author  \\\n",
              "94446              Cattleman's Pride (Silhouette Romance)       Diana Palmer   \n",
              "235903  The Arming of Europe and the Making of the Fir...  David G. Herrmann   \n",
              "348036  The Thousand-Mile War: World War II in Alaska ...     Brian Garfield   \n",
              "\n",
              "        best_seller  \n",
              "94446          True  \n",
              "235903         True  \n",
              "348036        False  "
            ],
            "text/html": [
              "\n",
              "  <div id=\"df-fdf93809-3e5a-4471-85e8-9c6b2d91c5e7\" class=\"colab-df-container\">\n",
              "    <div>\n",
              "<style scoped>\n",
              "    .dataframe tbody tr th:only-of-type {\n",
              "        vertical-align: middle;\n",
              "    }\n",
              "\n",
              "    .dataframe tbody tr th {\n",
              "        vertical-align: top;\n",
              "    }\n",
              "\n",
              "    .dataframe thead th {\n",
              "        text-align: right;\n",
              "    }\n",
              "</style>\n",
              "<table border=\"1\" class=\"dataframe\">\n",
              "  <thead>\n",
              "    <tr style=\"text-align: right;\">\n",
              "      <th></th>\n",
              "      <th>title</th>\n",
              "      <th>author</th>\n",
              "      <th>best_seller</th>\n",
              "    </tr>\n",
              "  </thead>\n",
              "  <tbody>\n",
              "    <tr>\n",
              "      <th>94446</th>\n",
              "      <td>Cattleman's Pride (Silhouette Romance)</td>\n",
              "      <td>Diana Palmer</td>\n",
              "      <td>True</td>\n",
              "    </tr>\n",
              "    <tr>\n",
              "      <th>235903</th>\n",
              "      <td>The Arming of Europe and the Making of the Fir...</td>\n",
              "      <td>David G. Herrmann</td>\n",
              "      <td>True</td>\n",
              "    </tr>\n",
              "    <tr>\n",
              "      <th>348036</th>\n",
              "      <td>The Thousand-Mile War: World War II in Alaska ...</td>\n",
              "      <td>Brian Garfield</td>\n",
              "      <td>False</td>\n",
              "    </tr>\n",
              "  </tbody>\n",
              "</table>\n",
              "</div>\n",
              "    <div class=\"colab-df-buttons\">\n",
              "\n",
              "  <div class=\"colab-df-container\">\n",
              "    <button class=\"colab-df-convert\" onclick=\"convertToInteractive('df-fdf93809-3e5a-4471-85e8-9c6b2d91c5e7')\"\n",
              "            title=\"Convert this dataframe to an interactive table.\"\n",
              "            style=\"display:none;\">\n",
              "\n",
              "  <svg xmlns=\"http://www.w3.org/2000/svg\" height=\"24px\" viewBox=\"0 -960 960 960\">\n",
              "    <path d=\"M120-120v-720h720v720H120Zm60-500h600v-160H180v160Zm220 220h160v-160H400v160Zm0 220h160v-160H400v160ZM180-400h160v-160H180v160Zm440 0h160v-160H620v160ZM180-180h160v-160H180v160Zm440 0h160v-160H620v160Z\"/>\n",
              "  </svg>\n",
              "    </button>\n",
              "\n",
              "  <style>\n",
              "    .colab-df-container {\n",
              "      display:flex;\n",
              "      gap: 12px;\n",
              "    }\n",
              "\n",
              "    .colab-df-convert {\n",
              "      background-color: #E8F0FE;\n",
              "      border: none;\n",
              "      border-radius: 50%;\n",
              "      cursor: pointer;\n",
              "      display: none;\n",
              "      fill: #1967D2;\n",
              "      height: 32px;\n",
              "      padding: 0 0 0 0;\n",
              "      width: 32px;\n",
              "    }\n",
              "\n",
              "    .colab-df-convert:hover {\n",
              "      background-color: #E2EBFA;\n",
              "      box-shadow: 0px 1px 2px rgba(60, 64, 67, 0.3), 0px 1px 3px 1px rgba(60, 64, 67, 0.15);\n",
              "      fill: #174EA6;\n",
              "    }\n",
              "\n",
              "    .colab-df-buttons div {\n",
              "      margin-bottom: 4px;\n",
              "    }\n",
              "\n",
              "    [theme=dark] .colab-df-convert {\n",
              "      background-color: #3B4455;\n",
              "      fill: #D2E3FC;\n",
              "    }\n",
              "\n",
              "    [theme=dark] .colab-df-convert:hover {\n",
              "      background-color: #434B5C;\n",
              "      box-shadow: 0px 1px 3px 1px rgba(0, 0, 0, 0.15);\n",
              "      filter: drop-shadow(0px 1px 2px rgba(0, 0, 0, 0.3));\n",
              "      fill: #FFFFFF;\n",
              "    }\n",
              "  </style>\n",
              "\n",
              "    <script>\n",
              "      const buttonEl =\n",
              "        document.querySelector('#df-fdf93809-3e5a-4471-85e8-9c6b2d91c5e7 button.colab-df-convert');\n",
              "      buttonEl.style.display =\n",
              "        google.colab.kernel.accessAllowed ? 'block' : 'none';\n",
              "\n",
              "      async function convertToInteractive(key) {\n",
              "        const element = document.querySelector('#df-fdf93809-3e5a-4471-85e8-9c6b2d91c5e7');\n",
              "        const dataTable =\n",
              "          await google.colab.kernel.invokeFunction('convertToInteractive',\n",
              "                                                    [key], {});\n",
              "        if (!dataTable) return;\n",
              "\n",
              "        const docLinkHtml = 'Like what you see? Visit the ' +\n",
              "          '<a target=\"_blank\" href=https://colab.research.google.com/notebooks/data_table.ipynb>data table notebook</a>'\n",
              "          + ' to learn more about interactive tables.';\n",
              "        element.innerHTML = '';\n",
              "        dataTable['output_type'] = 'display_data';\n",
              "        await google.colab.output.renderOutput(dataTable, element);\n",
              "        const docLink = document.createElement('div');\n",
              "        docLink.innerHTML = docLinkHtml;\n",
              "        element.appendChild(docLink);\n",
              "      }\n",
              "    </script>\n",
              "  </div>\n",
              "\n",
              "\n",
              "<div id=\"df-c10a8a98-c457-4384-ba36-afff2bdc948e\">\n",
              "  <button class=\"colab-df-quickchart\" onclick=\"quickchart('df-c10a8a98-c457-4384-ba36-afff2bdc948e')\"\n",
              "            title=\"Suggest charts\"\n",
              "            style=\"display:none;\">\n",
              "\n",
              "<svg xmlns=\"http://www.w3.org/2000/svg\" height=\"24px\"viewBox=\"0 0 24 24\"\n",
              "     width=\"24px\">\n",
              "    <g>\n",
              "        <path d=\"M19 3H5c-1.1 0-2 .9-2 2v14c0 1.1.9 2 2 2h14c1.1 0 2-.9 2-2V5c0-1.1-.9-2-2-2zM9 17H7v-7h2v7zm4 0h-2V7h2v10zm4 0h-2v-4h2v4z\"/>\n",
              "    </g>\n",
              "</svg>\n",
              "  </button>\n",
              "\n",
              "<style>\n",
              "  .colab-df-quickchart {\n",
              "      --bg-color: #E8F0FE;\n",
              "      --fill-color: #1967D2;\n",
              "      --hover-bg-color: #E2EBFA;\n",
              "      --hover-fill-color: #174EA6;\n",
              "      --disabled-fill-color: #AAA;\n",
              "      --disabled-bg-color: #DDD;\n",
              "  }\n",
              "\n",
              "  [theme=dark] .colab-df-quickchart {\n",
              "      --bg-color: #3B4455;\n",
              "      --fill-color: #D2E3FC;\n",
              "      --hover-bg-color: #434B5C;\n",
              "      --hover-fill-color: #FFFFFF;\n",
              "      --disabled-bg-color: #3B4455;\n",
              "      --disabled-fill-color: #666;\n",
              "  }\n",
              "\n",
              "  .colab-df-quickchart {\n",
              "    background-color: var(--bg-color);\n",
              "    border: none;\n",
              "    border-radius: 50%;\n",
              "    cursor: pointer;\n",
              "    display: none;\n",
              "    fill: var(--fill-color);\n",
              "    height: 32px;\n",
              "    padding: 0;\n",
              "    width: 32px;\n",
              "  }\n",
              "\n",
              "  .colab-df-quickchart:hover {\n",
              "    background-color: var(--hover-bg-color);\n",
              "    box-shadow: 0 1px 2px rgba(60, 64, 67, 0.3), 0 1px 3px 1px rgba(60, 64, 67, 0.15);\n",
              "    fill: var(--button-hover-fill-color);\n",
              "  }\n",
              "\n",
              "  .colab-df-quickchart-complete:disabled,\n",
              "  .colab-df-quickchart-complete:disabled:hover {\n",
              "    background-color: var(--disabled-bg-color);\n",
              "    fill: var(--disabled-fill-color);\n",
              "    box-shadow: none;\n",
              "  }\n",
              "\n",
              "  .colab-df-spinner {\n",
              "    border: 2px solid var(--fill-color);\n",
              "    border-color: transparent;\n",
              "    border-bottom-color: var(--fill-color);\n",
              "    animation:\n",
              "      spin 1s steps(1) infinite;\n",
              "  }\n",
              "\n",
              "  @keyframes spin {\n",
              "    0% {\n",
              "      border-color: transparent;\n",
              "      border-bottom-color: var(--fill-color);\n",
              "      border-left-color: var(--fill-color);\n",
              "    }\n",
              "    20% {\n",
              "      border-color: transparent;\n",
              "      border-left-color: var(--fill-color);\n",
              "      border-top-color: var(--fill-color);\n",
              "    }\n",
              "    30% {\n",
              "      border-color: transparent;\n",
              "      border-left-color: var(--fill-color);\n",
              "      border-top-color: var(--fill-color);\n",
              "      border-right-color: var(--fill-color);\n",
              "    }\n",
              "    40% {\n",
              "      border-color: transparent;\n",
              "      border-right-color: var(--fill-color);\n",
              "      border-top-color: var(--fill-color);\n",
              "    }\n",
              "    60% {\n",
              "      border-color: transparent;\n",
              "      border-right-color: var(--fill-color);\n",
              "    }\n",
              "    80% {\n",
              "      border-color: transparent;\n",
              "      border-right-color: var(--fill-color);\n",
              "      border-bottom-color: var(--fill-color);\n",
              "    }\n",
              "    90% {\n",
              "      border-color: transparent;\n",
              "      border-bottom-color: var(--fill-color);\n",
              "    }\n",
              "  }\n",
              "</style>\n",
              "\n",
              "  <script>\n",
              "    async function quickchart(key) {\n",
              "      const quickchartButtonEl =\n",
              "        document.querySelector('#' + key + ' button');\n",
              "      quickchartButtonEl.disabled = true;  // To prevent multiple clicks.\n",
              "      quickchartButtonEl.classList.add('colab-df-spinner');\n",
              "      try {\n",
              "        const charts = await google.colab.kernel.invokeFunction(\n",
              "            'suggestCharts', [key], {});\n",
              "      } catch (error) {\n",
              "        console.error('Error during call to suggestCharts:', error);\n",
              "      }\n",
              "      quickchartButtonEl.classList.remove('colab-df-spinner');\n",
              "      quickchartButtonEl.classList.add('colab-df-quickchart-complete');\n",
              "    }\n",
              "    (() => {\n",
              "      let quickchartButtonEl =\n",
              "        document.querySelector('#df-c10a8a98-c457-4384-ba36-afff2bdc948e button');\n",
              "      quickchartButtonEl.style.display =\n",
              "        google.colab.kernel.accessAllowed ? 'block' : 'none';\n",
              "    })();\n",
              "  </script>\n",
              "</div>\n",
              "    </div>\n",
              "  </div>\n"
            ]
          },
          "metadata": {},
          "execution_count": 19
        }
      ]
    },
    {
      "cell_type": "code",
      "source": [],
      "metadata": {
        "id": "-sRqwvoBjgGf"
      },
      "execution_count": null,
      "outputs": []
    }
  ],
  "metadata": {
    "colab": {
      "provenance": []
    },
    "kernelspec": {
      "display_name": "Python 3",
      "name": "python3"
    },
    "language_info": {
      "codemirror_mode": {
        "name": "ipython",
        "version": 3
      },
      "file_extension": ".py",
      "mimetype": "text/x-python",
      "name": "python",
      "nbconvert_exporter": "python",
      "pygments_lexer": "ipython3",
      "version": "3.6.15"
    }
  },
  "nbformat": 4,
  "nbformat_minor": 0
}